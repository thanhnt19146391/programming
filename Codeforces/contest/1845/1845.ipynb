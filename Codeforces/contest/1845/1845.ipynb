{
  "nbformat": 4,
  "nbformat_minor": 0,
  "metadata": {
    "colab": {
      "provenance": [],
      "authorship_tag": "ABX9TyMuaywfFsXHJEkuP+MOuMl2",
      "include_colab_link": true
    },
    "kernelspec": {
      "name": "python3",
      "display_name": "Python 3"
    },
    "language_info": {
      "name": "python"
    }
  },
  "cells": [
    {
      "cell_type": "markdown",
      "metadata": {
        "id": "view-in-github",
        "colab_type": "text"
      },
      "source": [
        "<a href=\"https://colab.research.google.com/github/thanhnt19146391/Programming/blob/main/Codeforces/contest/1845/1845.ipynb\" target=\"_parent\"><img src=\"https://colab.research.google.com/assets/colab-badge.svg\" alt=\"Open In Colab\"/></a>"
      ]
    },
    {
      "cell_type": "markdown",
      "source": [
        "# 1845A"
      ],
      "metadata": {
        "id": "z7QrPHGtuV6y"
      }
    },
    {
      "cell_type": "code",
      "execution_count": null,
      "metadata": {
        "colab": {
          "base_uri": "https://localhost:8080/"
        },
        "id": "Mm-alJbuuBwp",
        "outputId": "8649ffbe-7190-4dda-984e-8c28716590a0"
      },
      "outputs": [
        {
          "output_type": "stream",
          "name": "stdout",
          "text": [
            "YES\n",
            "10\n",
            "1 1 1 1 1 1 1 1 1 1\n",
            "NO\n",
            "YES\n",
            "2\n",
            "2 2\n",
            "YES\n",
            "7\n",
            "1 1 1 1 1 1 1\n",
            "NO\n",
            "YES\n",
            "2\n",
            "2 3\n"
          ]
        }
      ],
      "source": [
        "import sys\n",
        "from array import array\n",
        "\n",
        "'''\n",
        "    Adapted from code by beethoven97, https://codeforces.com/submissions/beethoven97\n",
        "    Thank to beethoven97\n",
        "\n",
        "    input = lambda: sys.stdin.buffer.readline().decode().rstrip()\n",
        "    inp = lambda dtype: [dtype(x) for x in input().split()]\n",
        "    debug = lambda *x: print(*x, file=sys.stderr)\n",
        "    sum_n = lambda n: (n * (n + 1)) // 2\n",
        "    get_bit = lambda x, i: (x >> i) & 1\n",
        "    ceil_ = lambda a, b: a // b if (a >= 0) ^ (b > 0) else (abs(a) + abs(b) - 1) // abs(b)\n",
        "    Mint, Mlong, out = 2 ** 30 - 1, 2 ** 62 - 1, []\n",
        "'''\n",
        "\n",
        "input = lambda: sys.stdin.buffer.readline().decode().rstrip()\n",
        "inp = lambda dtype: [dtype(x) for x in input().split()]\n",
        "\n",
        "def solve():\n",
        "    '''\n",
        "\n",
        "    '''\n",
        "\n",
        "    if x > 1: # We have number 1, mission pass\n",
        "        ans = 1\n",
        "        res = array('i', [1] * n)\n",
        "    elif k == x: # x = k = 1\n",
        "        ans = 0\n",
        "    elif n & 1 == 0:\n",
        "        # x = 1 and k > 1 (k = 2, 3, 4,..., n) and n is even\n",
        "        # We have at least a number 2, so we can complete n which is even\n",
        "        ans = 1\n",
        "        res = array('i', [2] * (n >> 1))\n",
        "    elif k >= 3:\n",
        "        # x = 1 and n is odd and k >= 3\n",
        "        # If we have 2 and 3, we can complete n which is odd\n",
        "        ans = 1\n",
        "        res = array('i', [2] * ((n - 3) >> 1) + [3])\n",
        "    else:\n",
        "        ans = 0\n",
        "\n",
        "    if ans:\n",
        "        print('YES')\n",
        "        print(len(res))\n",
        "        print(' '.join(map(str, res)))\n",
        "    else:\n",
        "        print('NO')\n",
        "\n",
        "if __name__ == '__main__':\n",
        "\n",
        "    input_from_terminal = 0\n",
        "\n",
        "    if input_from_terminal:\n",
        "        t = int(input())\n",
        "        for _ in range(t):\n",
        "            n, k, x = inp(int)\n",
        "            solve()\n",
        "    else:\n",
        "        with open('1845A.txt') as f:\n",
        "            t = int(f.readline().strip())\n",
        "            for _ in range(t):\n",
        "                n, k, x = map(int, f.readline().strip().split())\n",
        "                solve()\n"
      ]
    },
    {
      "cell_type": "code",
      "source": [
        "6\n",
        "10 3 2\n",
        "5 2 1\n",
        "4 2 1\n",
        "7 7 3\n",
        "6 1 1\n",
        "5 3 1"
      ],
      "metadata": {
        "id": "bS1k9z3T4MK3"
      },
      "execution_count": null,
      "outputs": []
    },
    {
      "cell_type": "markdown",
      "source": [
        "# 1845B"
      ],
      "metadata": {
        "id": "UUU6aM_HJ18X"
      }
    },
    {
      "cell_type": "code",
      "source": [
        "import sys\n",
        "from array import array\n",
        "\n",
        "'''\n",
        "    Adapted from code by beethoven97, https://codeforces.com/submissions/beethoven97\n",
        "    Thank to beethoven97\n",
        "\n",
        "    input = lambda: sys.stdin.buffer.readline().decode().rstrip()\n",
        "    inp = lambda dtype: [dtype(x) for x in input().split()]\n",
        "    debug = lambda *x: print(*x, file=sys.stderr)\n",
        "    sum_n = lambda n: (n * (n + 1)) // 2\n",
        "    get_bit = lambda x, i: (x >> i) & 1\n",
        "    ceil_ = lambda a, b: a // b if (a >= 0) ^ (b > 0) else (abs(a) + abs(b) - 1) // abs(b)\n",
        "    Mint, Mlong, out = 2 ** 30 - 1, 2 ** 62 - 1, []\n",
        "'''\n",
        "\n",
        "input = lambda: sys.stdin.buffer.readline().decode().rstrip()\n",
        "inp = lambda dtype: [dtype(x) for x in input().split()]\n",
        "\n",
        "def distance(x1, y1, x2, y2):\n",
        "    return abs(x1 - x2) + abs(y1 - y2)\n",
        "\n",
        "def solve():\n",
        "    '''\n",
        "\n",
        "    '''\n",
        "    ab = distance(xa, ya, xb, yb)\n",
        "    ac = distance(xa, ya, xc, yc)\n",
        "    bc = distance(xb, yb, xc, yc)\n",
        "    res = ((ab + ac - bc) >> 1) + 1\n",
        "    print(res)\n",
        "\n",
        "\n",
        "if __name__ == '__main__':\n",
        "\n",
        "    input_from_terminal = 0\n",
        "\n",
        "    if input_from_terminal:\n",
        "        t = int(input())\n",
        "        for _ in range(t):\n",
        "            xa, ya = inp(int)\n",
        "            xb, yb = inp(int)\n",
        "            xc, yc = inp(int)\n",
        "            solve()\n",
        "    else:\n",
        "        with open('1845B.txt') as f:\n",
        "            t = int(f.readline().strip())\n",
        "            for _ in range(t):\n",
        "                xa, ya = map(int, f.readline().strip().split())\n",
        "                xb, yb = map(int, f.readline().strip().split())\n",
        "                xc, yc = map(int, f.readline().strip().split())\n",
        "                solve()\n"
      ],
      "metadata": {
        "colab": {
          "base_uri": "https://localhost:8080/"
        },
        "id": "REyjH-gXJ3ff",
        "outputId": "d118d2ae-bf06-4b3d-ea61-7a3ae959ce7d"
      },
      "execution_count": null,
      "outputs": [
        {
          "output_type": "stream",
          "name": "stdout",
          "text": [
            "3\n",
            "1\n",
            "6\n"
          ]
        }
      ]
    },
    {
      "cell_type": "code",
      "source": [
        "3\n",
        "3 1\n",
        "1 3\n",
        "6 4\n",
        "5 2\n",
        "2 2\n",
        "7 2\n",
        "1 1\n",
        "4 3\n",
        "5 5\n"
      ],
      "metadata": {
        "id": "Ca6vbLEAJ_z3"
      },
      "execution_count": null,
      "outputs": []
    },
    {
      "cell_type": "markdown",
      "source": [
        "# 1845C"
      ],
      "metadata": {
        "id": "OkJNS1iBKYKo"
      }
    },
    {
      "cell_type": "code",
      "source": [
        "import sys\n",
        "from array import array\n",
        "\n",
        "'''\n",
        "    Adapted from code by beethoven97, https://codeforces.com/submissions/beethoven97\n",
        "    Thank to beethoven97\n",
        "\n",
        "    input = lambda: sys.stdin.buffer.readline().decode().rstrip()\n",
        "    inp = lambda dtype: [dtype(x) for x in input().split()]\n",
        "    debug = lambda *x: print(*x, file=sys.stderr)\n",
        "    sum_n = lambda n: (n * (n + 1)) // 2\n",
        "    get_bit = lambda x, i: (x >> i) & 1\n",
        "    ceil_ = lambda a, b: a // b if (a >= 0) ^ (b > 0) else (abs(a) + abs(b) - 1) // abs(b)\n",
        "    Mint, Mlong, out = 2 ** 30 - 1, 2 ** 62 - 1, []\n",
        "'''\n",
        "\n",
        "input = lambda: sys.stdin.buffer.readline().decode().rstrip()\n",
        "inp = lambda dtype: [dtype(x) for x in input().split()]\n",
        "\n",
        "def solve():\n",
        "    '''\n",
        "\n",
        "    '''\n",
        "    ixs = [array('i') for _ in range(10)]\n",
        "    n = len(s)\n",
        "\n",
        "    for i in range(n - 1, -1, -1):\n",
        "        ixs[s[i]].append(i)\n",
        "\n",
        "    res = 0\n",
        "    index = -1\n",
        "    for i in range(m):\n",
        "        for k in range(10):\n",
        "            while ixs[k] and ixs[k][-1] <= index:\n",
        "                ixs[k].pop()\n",
        "\n",
        "        for j in range(l[i], r[i] + 1):\n",
        "            if not ixs[j]:\n",
        "                res = 1\n",
        "                break # break the loop j\n",
        "            index = max(index, ixs[j][-1])\n",
        "\n",
        "        if res:\n",
        "            break # break the loop i\n",
        "\n",
        "    print('YES' if res else 'NO')\n",
        "\n",
        "if __name__ == '__main__':\n",
        "\n",
        "    input_from_terminal = 0\n",
        "\n",
        "    if input_from_terminal:\n",
        "        t = int(input())\n",
        "        for _ in range(t):\n",
        "            s = array('b', [int(x) for x in input()])\n",
        "            m = int(input())\n",
        "            l , r = [array('b', [int(x) for x in input()]) for _ in range(2)]\n",
        "            solve()\n",
        "    else:\n",
        "        with open('1845C.txt') as f:\n",
        "            t = int(f.readline().strip())\n",
        "            for _ in range(t):\n",
        "                s = array('b', [int(x) for x in f.readline().strip()])\n",
        "                m = int(f.readline().strip())\n",
        "                l , r = [array('b', [int(x) for x in f.readline().strip()]) for _ in range(2)]\n",
        "                solve()\n"
      ],
      "metadata": {
        "id": "tsYG24SfatRd",
        "colab": {
          "base_uri": "https://localhost:8080/"
        },
        "outputId": "e71c1c7e-9e4a-454c-a420-3c120d9d64c6"
      },
      "execution_count": 11,
      "outputs": [
        {
          "output_type": "stream",
          "name": "stdout",
          "text": [
            "YES\n",
            "NO\n",
            "YES\n",
            "NO\n",
            "YES\n"
          ]
        }
      ]
    },
    {
      "cell_type": "code",
      "source": [
        "5\n",
        "88005553535123456\n",
        "2\n",
        "50\n",
        "56\n",
        "123412341234\n",
        "3\n",
        "111\n",
        "444\n",
        "1234\n",
        "4\n",
        "4321\n",
        "4321\n",
        "459\n",
        "2\n",
        "49\n",
        "59\n",
        "00010\n",
        "2\n",
        "10\n",
        "11\n"
      ],
      "metadata": {
        "id": "Mleih4vHbxvO"
      },
      "execution_count": null,
      "outputs": []
    }
  ]
}