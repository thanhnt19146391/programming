{
  "nbformat": 4,
  "nbformat_minor": 0,
  "metadata": {
    "colab": {
      "provenance": [],
      "authorship_tag": "ABX9TyOfwJlUUGnhnSL7w4o5DWrQ",
      "include_colab_link": true
    },
    "kernelspec": {
      "name": "python3",
      "display_name": "Python 3"
    },
    "language_info": {
      "name": "python"
    }
  },
  "cells": [
    {
      "cell_type": "markdown",
      "metadata": {
        "id": "view-in-github",
        "colab_type": "text"
      },
      "source": [
        "<a href=\"https://colab.research.google.com/github/thanhnt19146391/Programming/blob/main/Codeforces/contest/1832/1832.ipynb\" target=\"_parent\"><img src=\"https://colab.research.google.com/assets/colab-badge.svg\" alt=\"Open In Colab\"/></a>"
      ]
    },
    {
      "cell_type": "markdown",
      "source": [
        "# 1832A"
      ],
      "metadata": {
        "id": "ExFRN7SB_ULV"
      }
    },
    {
      "cell_type": "code",
      "execution_count": null,
      "metadata": {
        "colab": {
          "base_uri": "https://localhost:8080/"
        },
        "id": "s_TXaOPC_Kxf",
        "outputId": "9f86bbad-0ba4-4766-c64c-b350a51e4b08"
      },
      "outputs": [
        {
          "output_type": "stream",
          "name": "stdout",
          "text": [
            "YES\n",
            "NO\n",
            "NO\n",
            "NO\n",
            "NO\n",
            "YES\n"
          ]
        }
      ],
      "source": [
        "import sys\n",
        "from array import array\n",
        "\n",
        "'''\n",
        "    Adapted from code by beethoven97, https://codeforces.com/submissions/beethoven97\n",
        "    Thank to beethoven97\n",
        "\n",
        "    input = lambda: sys.stdin.buffer.readline().decode().rstrip()\n",
        "    inp = lambda dtype: [dtype(x) for x in input().split()]\n",
        "    debug = lambda *x: print(*x, file=sys.stderr)\n",
        "    sum_n = lambda n: (n * (n + 1)) // 2\n",
        "    get_bit = lambda x, i: (x >> i) & 1\n",
        "    ceil_ = lambda a, b: a // b if (a >= 0) ^ (b > 0) else (abs(a) + abs(b) - 1) // abs(b)\n",
        "    Mint, Mlong, out = 2 ** 30 - 1, 2 ** 62 - 1, []\n",
        "'''\n",
        "\n",
        "input = lambda: sys.stdin.buffer.readline().decode().rstrip()\n",
        "inp = lambda dtype: [dtype(x) for x in input().split()]\n",
        "\n",
        "def solve():\n",
        "    '''\n",
        "        unique : a set which contain different char \n",
        "    '''\n",
        "\n",
        "    unique = set()\n",
        "    n = len(s)\n",
        "    for i in range(n >> 1):\n",
        "        if s[i] not in unique:\n",
        "            unique.add(s[i])\n",
        "    if len(unique) > 1:\n",
        "        print('YES')\n",
        "    else:\n",
        "        print('NO')\n",
        "    \n",
        "if __name__ == '__main__':\n",
        "\n",
        "    # t = int(input())\n",
        "    # for _ in range(t):\n",
        "    #     s = input()\n",
        "    #     solve()\n",
        "\n",
        "    with open('1832A.txt') as f:\n",
        "        t = int(f.readline().strip())\n",
        "        for _ in range(t):\n",
        "            s = f.readline().strip()\n",
        "            solve()"
      ]
    },
    {
      "cell_type": "markdown",
      "source": [
        "# 1832B"
      ],
      "metadata": {
        "id": "Qw5I6mRHFC7j"
      }
    },
    {
      "cell_type": "code",
      "source": [
        "import sys\n",
        "from array import array\n",
        "\n",
        "'''\n",
        "    Adapted from code by beethoven97, https://codeforces.com/submissions/beethoven97\n",
        "    Thank to beethoven97\n",
        "\n",
        "    input = lambda: sys.stdin.buffer.readline().decode().rstrip()\n",
        "    inp = lambda dtype: [dtype(x) for x in input().split()]\n",
        "    debug = lambda *x: print(*x, file=sys.stderr)\n",
        "    sum_n = lambda n: (n * (n + 1)) // 2\n",
        "    get_bit = lambda x, i: (x >> i) & 1\n",
        "    ceil_ = lambda a, b: a // b if (a >= 0) ^ (b > 0) else (abs(a) + abs(b) - 1) // abs(b)\n",
        "    Mint, Mlong, out = 2 ** 30 - 1, 2 ** 62 - 1, []\n",
        "'''\n",
        "\n",
        "input = lambda: sys.stdin.buffer.readline().decode().rstrip()\n",
        "inp = lambda dtype: [dtype(x) for x in input().split()]\n",
        "\n",
        "def solve():\n",
        "    '''\n",
        "        Because we must not consider position of elements,\n",
        "        we sort array to find min/max value easily.\n",
        "        pre_sum : prefix sum of array a\n",
        "        op1 : number of operation 1 - find two minimum elements in the array, and delete them\n",
        "        op2 : number of operation 2 - find the maximum element in the array, and delete it.\n",
        "        (l, r) : range of remainder array after deleteing elements\n",
        "    '''\n",
        "    \n",
        "    pre_sum = array('Q', [0] * (n + 1))\n",
        "    for i in range(n):\n",
        "        pre_sum[i] = pre_sum[i - 1] + a[i]\n",
        "    \n",
        "    res = 0\n",
        "    for op1 in range(k + 1):\n",
        "        op2 = k - op1 \n",
        "        l = op1 * 2\n",
        "        r = n - op2 - 1\n",
        "        sub_sum = pre_sum[r] - pre_sum[l - 1]\n",
        "        res = max(res, sub_sum)\n",
        "    print(res)\n",
        "\n",
        "    \n",
        "    \n",
        "if __name__ == '__main__':\n",
        "\n",
        "    # t = int(input())\n",
        "    # for _ in range(t):\n",
        "    #     n, k = map(int, input().split())\n",
        "    #     a = array('i', sorted(inp(int)))\n",
        "    #     solve()\n",
        "\n",
        "    with open('1832B.txt') as f:\n",
        "        t = int(f.readline().strip())\n",
        "        for _ in range(t):\n",
        "            n, k = map(int, f.readline().strip().split())\n",
        "            a = array('i', sorted([int(x) for x in f.readline().strip().split()]))\n",
        "            solve()"
      ],
      "metadata": {
        "id": "ZGxdhYBSFH6K",
        "colab": {
          "base_uri": "https://localhost:8080/"
        },
        "outputId": "2d1e339f-f690-42ab-d4f8-0f8ad1ed76f6"
      },
      "execution_count": null,
      "outputs": [
        {
          "output_type": "stream",
          "name": "stdout",
          "text": [
            "21\n",
            "11\n",
            "3\n",
            "62\n",
            "46\n",
            "3999999986\n"
          ]
        }
      ]
    },
    {
      "cell_type": "markdown",
      "source": [
        "# 1832C\n"
      ],
      "metadata": {
        "id": "rw9cj1t3IHQN"
      }
    },
    {
      "cell_type": "code",
      "source": [
        "import sys\n",
        "from array import array\n",
        "\n",
        "'''\n",
        "    Adapted from code by beethoven97, https://codeforces.com/submissions/beethoven97\n",
        "    Thank to beethoven97\n",
        "\n",
        "    input = lambda: sys.stdin.buffer.readline().decode().rstrip()\n",
        "    inp = lambda dtype: [dtype(x) for x in input().split()]\n",
        "    debug = lambda *x: print(*x, file=sys.stderr)\n",
        "    sum_n = lambda n: (n * (n + 1)) // 2\n",
        "    get_bit = lambda x, i: (x >> i) & 1\n",
        "    ceil_ = lambda a, b: a // b if (a >= 0) ^ (b > 0) else (abs(a) + abs(b) - 1) // abs(b)\n",
        "    Mint, Mlong, out = 2 ** 30 - 1, 2 ** 62 - 1, []\n",
        "'''\n",
        "\n",
        "input = lambda: sys.stdin.buffer.readline().decode().rstrip()\n",
        "inp = lambda dtype: [dtype(x) for x in input().split()]\n",
        "\n",
        "def solve():\n",
        "    '''\n",
        "        unique_a : an array contains elements of array_a \n",
        "        which removed consecutive equal value except one\n",
        "    '''\n",
        "    res = 1\n",
        "    unique_a = array('i', [a[0]])\n",
        "    for i in range(1, n):\n",
        "        if a[i] != a[i - 1]:\n",
        "            unique_a.append(a[i])\n",
        "    \n",
        "    m = len(unique_a)\n",
        "    for i in range(1, m - 1):\n",
        "        \n",
        "        if unique_a[i - 1] < unique_a[i] > unique_a[i + 1] or unique_a[i - 1] > unique_a[i] < unique_a[i + 1]:\n",
        "            res += 1\n",
        "\n",
        "    res = res + int(m > 1) \n",
        "    print(res)\n",
        "    \n",
        "if __name__ == '__main__':\n",
        "\n",
        "    t = int(input())\n",
        "    for _ in range(t):\n",
        "        n = int(input())\n",
        "        a = array('i', inp(int))\n",
        "        solve()\n",
        "\n",
        "    with open('1832C.txt') as f:\n",
        "        t = int(f.readline().strip())\n",
        "        for _ in range(t):\n",
        "            n = int(f.readline().strip())\n",
        "            a = array('i', [int(x) for x in f.readline().strip().split()])\n",
        "            solve()"
      ],
      "metadata": {
        "colab": {
          "base_uri": "https://localhost:8080/"
        },
        "id": "TnKpZ8z7INdk",
        "outputId": "23767636-3748-43a9-9498-af743c0826e3"
      },
      "execution_count": 11,
      "outputs": [
        {
          "output_type": "stream",
          "name": "stdout",
          "text": [
            "2\n",
            "2\n",
            "1\n",
            "3\n"
          ]
        }
      ]
    }
  ]
}