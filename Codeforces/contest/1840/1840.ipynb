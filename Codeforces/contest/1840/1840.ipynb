{
  "nbformat": 4,
  "nbformat_minor": 0,
  "metadata": {
    "colab": {
      "provenance": [],
      "authorship_tag": "ABX9TyN2og8ddPru+A40a9KDnc4P",
      "include_colab_link": true
    },
    "kernelspec": {
      "name": "python3",
      "display_name": "Python 3"
    },
    "language_info": {
      "name": "python"
    }
  },
  "cells": [
    {
      "cell_type": "markdown",
      "metadata": {
        "id": "view-in-github",
        "colab_type": "text"
      },
      "source": [
        "<a href=\"https://colab.research.google.com/github/thanhnt19146391/Programming/blob/main/Codeforces/contest/1840/1840.ipynb\" target=\"_parent\"><img src=\"https://colab.research.google.com/assets/colab-badge.svg\" alt=\"Open In Colab\"/></a>"
      ]
    },
    {
      "cell_type": "markdown",
      "source": [
        "# 1840A"
      ],
      "metadata": {
        "id": "Iq4rhVkgUZRy"
      }
    },
    {
      "cell_type": "code",
      "execution_count": null,
      "metadata": {
        "id": "arXnR6pKULIt",
        "colab": {
          "base_uri": "https://localhost:8080/"
        },
        "outputId": "e3e30388-4aa1-47e5-f858-398f91857096"
      },
      "outputs": [
        {
          "output_type": "stream",
          "name": "stdout",
          "text": [
            "ac\n",
            "q\n",
            "codeforces\n"
          ]
        }
      ],
      "source": [
        "import sys\n",
        "from array import array\n",
        "\n",
        "'''\n",
        "    Adapted from code by beethoven97, https://codeforces.com/submissions/beethoven97\n",
        "    Thank to beethoven97\n",
        "\n",
        "    input = lambda: sys.stdin.buffer.readline().decode().rstrip()\n",
        "    inp = lambda dtype: [dtype(x) for x in input().split()]\n",
        "    debug = lambda *x: print(*x, file=sys.stderr)\n",
        "    sum_n = lambda n: (n * (n + 1)) // 2\n",
        "    get_bit = lambda x, i: (x >> i) & 1\n",
        "    ceil_ = lambda a, b: a // b if (a >= 0) ^ (b > 0) else (abs(a) + abs(b) - 1) // abs(b)\n",
        "    Mint, Mlong, out = 2 ** 30 - 1, 2 ** 62 - 1, []\n",
        "'''\n",
        "\n",
        "input = lambda: sys.stdin.buffer.readline().decode().rstrip()\n",
        "inp = lambda dtype: [dtype(x) for x in input().split()]\n",
        "\n",
        "def solve():\n",
        "    '''\n",
        "\n",
        "    '''\n",
        "\n",
        "    res, pre_char = array('u'), ''\n",
        "    for i in range(n):\n",
        "        if pre_char == '':\n",
        "            pre_char = s[i]\n",
        "            res.append(s[i])\n",
        "        elif s[i] == pre_char:\n",
        "            pre_char = ''\n",
        "\n",
        "    print(''.join(res))\n",
        "\n",
        "if __name__ == '__main__':\n",
        "\n",
        "    input_from_terminal = 0\n",
        "\n",
        "    if input_from_terminal:\n",
        "        t = int(input())\n",
        "        for _ in range(t):\n",
        "            n = int(input())\n",
        "            s = input()\n",
        "            solve()\n",
        "    else:\n",
        "        with open('1840A.txt') as f:\n",
        "            t = int(f.readline().strip())\n",
        "            for _ in range(t):\n",
        "                n = int(f.readline().strip())\n",
        "                s = f.readline().strip()\n",
        "                solve()"
      ]
    },
    {
      "cell_type": "markdown",
      "source": [
        "# 1840B"
      ],
      "metadata": {
        "id": "OOIGNkYY3VVX"
      }
    },
    {
      "cell_type": "code",
      "source": [
        "import sys\n",
        "from array import array\n",
        "\n",
        "'''\n",
        "    Adapted from code by beethoven97, https://codeforces.com/submissions/beethoven97\n",
        "    Thank to beethoven97\n",
        "\n",
        "    input = lambda: sys.stdin.buffer.readline().decode().rstrip()\n",
        "    inp = lambda dtype: [dtype(x) for x in input().split()]\n",
        "    debug = lambda *x: print(*x, file=sys.stderr)\n",
        "    sum_n = lambda n: (n * (n + 1)) // 2\n",
        "    get_bit = lambda x, i: (x >> i) & 1\n",
        "    ceil_ = lambda a, b: a // b if (a >= 0) ^ (b > 0) else (abs(a) + abs(b) - 1) // abs(b)\n",
        "    Mint, Mlong, out = 2 ** 30 - 1, 2 ** 62 - 1, []\n",
        "'''\n",
        "\n",
        "input = lambda: sys.stdin.buffer.readline().decode().rstrip()\n",
        "inp = lambda dtype: [dtype(x) for x in input().split()]\n",
        "\n",
        "def solve():\n",
        "    '''\n",
        "        Limit: 2**30 ~ 10^9\n",
        "        Each number of coins corresponds to its unique set of desserts,\n",
        "        since any number 0 <= k <= n is uniquely represented as\n",
        "        a sum of powers of two.\n",
        "    '''\n",
        "    max_power = min(k, 30)\n",
        "    res = min(1 << max_power, n + 1)\n",
        "    print(res)\n",
        "\n",
        "if __name__ == '__main__':\n",
        "\n",
        "    input_from_terminal = 0\n",
        "\n",
        "    if input_from_terminal:\n",
        "        t = int(input())\n",
        "        for _ in range(t):\n",
        "            n, k = inp(int)\n",
        "            solve()\n",
        "    else:\n",
        "        with open('1840B.txt') as f:\n",
        "            t = int(f.readline().strip())\n",
        "            for _ in range(t):\n",
        "                n, k = map(int, f.readline().strip().split())\n",
        "                solve()"
      ],
      "metadata": {
        "colab": {
          "base_uri": "https://localhost:8080/"
        },
        "id": "HPdH_7Rd3XkN",
        "outputId": "dc9dce03-00a4-4b85-da4a-a3d55eeed0d2"
      },
      "execution_count": null,
      "outputs": [
        {
          "output_type": "stream",
          "name": "stdout",
          "text": [
            "2\n",
            "2\n",
            "3\n",
            "4\n",
            "180\n"
          ]
        }
      ]
    },
    {
      "cell_type": "markdown",
      "source": [
        "# 1840C\n"
      ],
      "metadata": {
        "id": "5QCkBod0daUP"
      }
    },
    {
      "cell_type": "code",
      "source": [
        "import sys\n",
        "from array import array\n",
        "\n",
        "'''\n",
        "    Adapted from code by beethoven97, https://codeforces.com/submissions/beethoven97\n",
        "    Thank to beethoven97\n",
        "\n",
        "    input = lambda: sys.stdin.buffer.readline().decode().rstrip()\n",
        "    inp = lambda dtype: [dtype(x) for x in input().split()]\n",
        "    debug = lambda *x: print(*x, file=sys.stderr)\n",
        "    sum_n = lambda n: (n * (n + 1)) // 2\n",
        "    get_bit = lambda x, i: (x >> i) & 1\n",
        "    ceil_ = lambda a, b: a // b if (a >= 0) ^ (b > 0) else (abs(a) + abs(b) - 1) // abs(b)\n",
        "    Mint, Mlong, out = 2 ** 30 - 1, 2 ** 62 - 1, []\n",
        "'''\n",
        "\n",
        "input = lambda: sys.stdin.buffer.readline().decode().rstrip()\n",
        "inp = lambda dtype: [dtype(x) for x in input().split()]\n",
        "\n",
        "def solve():\n",
        "    '''\n",
        "        len - k + 1 : the number ways to choose consequetive days as soon as\n",
        "        the satified day added\n",
        "    '''\n",
        "\n",
        "    res, len = 0, 0\n",
        "    for temp in a:\n",
        "        if temp > q:\n",
        "            len = 0\n",
        "        else:\n",
        "            len += 1\n",
        "            res += max(0, len - k + 1)\n",
        "\n",
        "    print(res)\n",
        "\n",
        "\n",
        "if __name__ == '__main__':\n",
        "\n",
        "    input_from_terminal = 0\n",
        "\n",
        "    if input_from_terminal:\n",
        "        t = int(input())\n",
        "        for _ in range(t):\n",
        "            n, k, q = inp(int)\n",
        "            a = array('i', inp(int))\n",
        "            solve()\n",
        "    else:\n",
        "        with open('1840C.txt') as f:\n",
        "            t = int(f.readline().strip())\n",
        "            for _ in range(t):\n",
        "                n, k, q = map(int, f.readline().strip().split())\n",
        "                a = array('i', [int(x) for x in f.readline().strip().split()])\n",
        "                solve()\n"
      ],
      "metadata": {
        "id": "JfBcpnAjdfWw",
        "colab": {
          "base_uri": "https://localhost:8080/"
        },
        "outputId": "7d5de990-bbc1-4673-8398-05e890723796"
      },
      "execution_count": null,
      "outputs": [
        {
          "output_type": "stream",
          "name": "stdout",
          "text": [
            "6\n",
            "0\n",
            "1\n",
            "0\n",
            "0\n",
            "1\n",
            "9\n"
          ]
        }
      ]
    },
    {
      "cell_type": "markdown",
      "source": [
        "# 1840D\n"
      ],
      "metadata": {
        "id": "N06G9H5LDzvD"
      }
    },
    {
      "cell_type": "code",
      "source": [
        "import sys\n",
        "from array import array\n",
        "\n",
        "'''\n",
        "    Adapted from code by beethoven97, https://codeforces.com/submissions/beethoven97\n",
        "    Thank to beethoven97\n",
        "\n",
        "    input = lambda: sys.stdin.buffer.readline().decode().rstrip()\n",
        "    inp = lambda dtype: [dtype(x) for x in input().split()]\n",
        "    debug = lambda *x: print(*x, file=sys.stderr)\n",
        "    sum_n = lambda n: (n * (n + 1)) // 2\n",
        "    get_bit = lambda x, i: (x >> i) & 1\n",
        "    ceil_ = lambda a, b: a // b if (a >= 0) ^ (b > 0) else (abs(a) + abs(b) - 1) // abs(b)\n",
        "    Mint, Mlong, out = 2 ** 30 - 1, 2 ** 62 - 1, []\n",
        "'''\n",
        "\n",
        "input = lambda: sys.stdin.buffer.readline().decode().rstrip()\n",
        "inp = lambda dtype: [dtype(x) for x in input().split()]\n",
        "\n",
        "def solve():\n",
        "    '''\n",
        "\n",
        "    '''\n",
        "    l, r = 0, 10**9\n",
        "    while (l < r):\n",
        "        mid = (l + r) >> 1\n",
        "        carvers, x = 0, -10**9\n",
        "\n",
        "        for i in range(n):\n",
        "            if abs(a[i] - x) > mid:\n",
        "                carvers += 1\n",
        "                x = a[i] + mid\n",
        "\n",
        "        if carvers <= 3:\n",
        "            r = mid\n",
        "        else:\n",
        "            l = mid + 1\n",
        "\n",
        "    print(r)\n",
        "\n",
        "\n",
        "\n",
        "\n",
        "\n",
        "if __name__ == '__main__':\n",
        "\n",
        "    input_from_terminal = 0\n",
        "\n",
        "    if input_from_terminal:\n",
        "        t = int(input())\n",
        "        for _ in range(t):\n",
        "            n = int(input())\n",
        "            a = array('i', sorted(inp(int)))\n",
        "            solve()\n",
        "    else:\n",
        "        with open('1840C.txt') as f:\n",
        "            t = int(f.readline().strip())\n",
        "            for _ in range(t):\n",
        "                n = int(f.readline().strip())\n",
        "                a = array('i', sorted([int(x) for x in f.readline().strip().split()]))\n",
        "                solve()\n"
      ],
      "metadata": {
        "colab": {
          "base_uri": "https://localhost:8080/"
        },
        "id": "0ZoCPzZDD2hq",
        "outputId": "19b8d5eb-ae2e-4730-bc67-89dc4d3cc48e"
      },
      "execution_count": null,
      "outputs": [
        {
          "output_type": "stream",
          "name": "stdout",
          "text": [
            "0\n",
            "2\n",
            "13\n",
            "0\n",
            "1\n"
          ]
        }
      ]
    }
  ]
}