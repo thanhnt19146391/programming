{
  "nbformat": 4,
  "nbformat_minor": 0,
  "metadata": {
    "colab": {
      "provenance": [],
      "authorship_tag": "ABX9TyPf/YUC53ksjkDC5vRDxscF",
      "include_colab_link": true
    },
    "kernelspec": {
      "name": "python3",
      "display_name": "Python 3"
    },
    "language_info": {
      "name": "python"
    }
  },
  "cells": [
    {
      "cell_type": "markdown",
      "metadata": {
        "id": "view-in-github",
        "colab_type": "text"
      },
      "source": [
        "<a href=\"https://colab.research.google.com/github/thanhnt19146391/Programming/blob/main/Codeforces/contest/1829/1829.ipynb\" target=\"_parent\"><img src=\"https://colab.research.google.com/assets/colab-badge.svg\" alt=\"Open In Colab\"/></a>"
      ]
    },
    {
      "cell_type": "markdown",
      "source": [
        "# 1829A"
      ],
      "metadata": {
        "id": "zzyLQE1Bg3BI"
      }
    },
    {
      "cell_type": "code",
      "execution_count": null,
      "metadata": {
        "colab": {
          "base_uri": "https://localhost:8080/",
          "height": 380
        },
        "id": "Rc4YfkpKg11Q",
        "outputId": "2b53a251-2f91-44b5-8a85-5c8ea18a8ea4"
      },
      "outputs": [
        {
          "output_type": "error",
          "ename": "KeyboardInterrupt",
          "evalue": "ignored",
          "traceback": [
            "\u001b[0;31m---------------------------------------------------------------------------\u001b[0m",
            "\u001b[0;31mKeyboardInterrupt\u001b[0m                         Traceback (most recent call last)",
            "\u001b[0;32m<ipython-input-1-7d222952a1fc>\u001b[0m in \u001b[0;36m<cell line: 22>\u001b[0;34m()\u001b[0m\n\u001b[1;32m     22\u001b[0m \u001b[0;32mif\u001b[0m \u001b[0m__name__\u001b[0m \u001b[0;34m==\u001b[0m \u001b[0;34m'__main__'\u001b[0m\u001b[0;34m:\u001b[0m\u001b[0;34m\u001b[0m\u001b[0;34m\u001b[0m\u001b[0m\n\u001b[1;32m     23\u001b[0m \u001b[0;34m\u001b[0m\u001b[0m\n\u001b[0;32m---> 24\u001b[0;31m     \u001b[0mt\u001b[0m \u001b[0;34m=\u001b[0m \u001b[0mint\u001b[0m\u001b[0;34m(\u001b[0m\u001b[0minput\u001b[0m\u001b[0;34m(\u001b[0m\u001b[0;34m)\u001b[0m\u001b[0;34m)\u001b[0m\u001b[0;34m\u001b[0m\u001b[0;34m\u001b[0m\u001b[0m\n\u001b[0m\u001b[1;32m     25\u001b[0m     \u001b[0;32mfor\u001b[0m \u001b[0m_\u001b[0m \u001b[0;32min\u001b[0m \u001b[0mrange\u001b[0m\u001b[0;34m(\u001b[0m\u001b[0mt\u001b[0m\u001b[0;34m)\u001b[0m\u001b[0;34m:\u001b[0m\u001b[0;34m\u001b[0m\u001b[0;34m\u001b[0m\u001b[0m\n\u001b[1;32m     26\u001b[0m             \u001b[0ms\u001b[0m \u001b[0;34m=\u001b[0m \u001b[0minput\u001b[0m\u001b[0;34m(\u001b[0m\u001b[0;34m)\u001b[0m\u001b[0;34m\u001b[0m\u001b[0;34m\u001b[0m\u001b[0m\n",
            "\u001b[0;32m/usr/local/lib/python3.10/dist-packages/ipykernel/kernelbase.py\u001b[0m in \u001b[0;36mraw_input\u001b[0;34m(self, prompt)\u001b[0m\n\u001b[1;32m    849\u001b[0m                 \u001b[0;34m\"raw_input was called, but this frontend does not support input requests.\"\u001b[0m\u001b[0;34m\u001b[0m\u001b[0;34m\u001b[0m\u001b[0m\n\u001b[1;32m    850\u001b[0m             )\n\u001b[0;32m--> 851\u001b[0;31m         return self._input_request(str(prompt),\n\u001b[0m\u001b[1;32m    852\u001b[0m             \u001b[0mself\u001b[0m\u001b[0;34m.\u001b[0m\u001b[0m_parent_ident\u001b[0m\u001b[0;34m,\u001b[0m\u001b[0;34m\u001b[0m\u001b[0;34m\u001b[0m\u001b[0m\n\u001b[1;32m    853\u001b[0m             \u001b[0mself\u001b[0m\u001b[0;34m.\u001b[0m\u001b[0m_parent_header\u001b[0m\u001b[0;34m,\u001b[0m\u001b[0;34m\u001b[0m\u001b[0;34m\u001b[0m\u001b[0m\n",
            "\u001b[0;32m/usr/local/lib/python3.10/dist-packages/ipykernel/kernelbase.py\u001b[0m in \u001b[0;36m_input_request\u001b[0;34m(self, prompt, ident, parent, password)\u001b[0m\n\u001b[1;32m    893\u001b[0m             \u001b[0;32mexcept\u001b[0m \u001b[0mKeyboardInterrupt\u001b[0m\u001b[0;34m:\u001b[0m\u001b[0;34m\u001b[0m\u001b[0;34m\u001b[0m\u001b[0m\n\u001b[1;32m    894\u001b[0m                 \u001b[0;31m# re-raise KeyboardInterrupt, to truncate traceback\u001b[0m\u001b[0;34m\u001b[0m\u001b[0;34m\u001b[0m\u001b[0m\n\u001b[0;32m--> 895\u001b[0;31m                 \u001b[0;32mraise\u001b[0m \u001b[0mKeyboardInterrupt\u001b[0m\u001b[0;34m(\u001b[0m\u001b[0;34m\"Interrupted by user\"\u001b[0m\u001b[0;34m)\u001b[0m \u001b[0;32mfrom\u001b[0m \u001b[0;32mNone\u001b[0m\u001b[0;34m\u001b[0m\u001b[0;34m\u001b[0m\u001b[0m\n\u001b[0m\u001b[1;32m    896\u001b[0m             \u001b[0;32mexcept\u001b[0m \u001b[0mException\u001b[0m \u001b[0;32mas\u001b[0m \u001b[0me\u001b[0m\u001b[0;34m:\u001b[0m\u001b[0;34m\u001b[0m\u001b[0;34m\u001b[0m\u001b[0m\n\u001b[1;32m    897\u001b[0m                 \u001b[0mself\u001b[0m\u001b[0;34m.\u001b[0m\u001b[0mlog\u001b[0m\u001b[0;34m.\u001b[0m\u001b[0mwarning\u001b[0m\u001b[0;34m(\u001b[0m\u001b[0;34m\"Invalid Message:\"\u001b[0m\u001b[0;34m,\u001b[0m \u001b[0mexc_info\u001b[0m\u001b[0;34m=\u001b[0m\u001b[0;32mTrue\u001b[0m\u001b[0;34m)\u001b[0m\u001b[0;34m\u001b[0m\u001b[0;34m\u001b[0m\u001b[0m\n",
            "\u001b[0;31mKeyboardInterrupt\u001b[0m: Interrupted by user"
          ]
        }
      ],
      "source": [
        "\n",
        "'''\n",
        "    Adapted from code by beethoven97, https://codeforces.com/submissions/beethoven97\n",
        "    Thank to beethoven97\n",
        "\n",
        "    input = lambda: sys.stdin.buffer.readline().decode().rstrip()\n",
        "    inp = lambda dtype: [dtype(x) for x in input().split()]\n",
        "    debug = lambda *x: print(*x, file=sys.stderr)\n",
        "    sum_n = lambda n: (n * (n + 1)) // 2\n",
        "    get_bit = lambda x, i: (x >> i) & 1\n",
        "    ceil_ = lambda a, b: a // b if (a >= 0) ^ (b > 0) else (abs(a) + abs(b) - 1) // abs(b)\n",
        "    Mint, Mlong, out = 2 ** 30 - 1, 2 ** 62 - 1, []\n",
        "'''\n",
        "\n",
        "def solve():\n",
        "    template = 'codeforces'\n",
        "    res = 0\n",
        "    for i in range(len(s)):\n",
        "        if s[i] != template[i]:\n",
        "            res += 1\n",
        "    print(res)\n",
        "\n",
        "if __name__ == '__main__':\n",
        "\n",
        "    t = int(input())\n",
        "    for _ in range(t):\n",
        "            s = input()\n",
        "            solve()\n",
        "    \n",
        "    # with open('1829A.txt') as f:\n",
        "    #     t = int(f.readline().strip())\n",
        "    #     for _ in range(t):\n",
        "    #         s = f.readline().strip()\n",
        "    #         solve()\n",
        "    "
      ]
    },
    {
      "cell_type": "markdown",
      "source": [
        "# 1829B"
      ],
      "metadata": {
        "id": "A_IbSwYPkLqX"
      }
    },
    {
      "cell_type": "code",
      "source": [
        "from array import array\n",
        "\n",
        "'''\n",
        "    Adapted from code by beethoven97, https://codeforces.com/submissions/beethoven97\n",
        "    Thank to beethoven97\n",
        "\n",
        "    input = lambda: sys.stdin.buffer.readline().decode().rstrip()\n",
        "    inp = lambda dtype: [dtype(x) for x in input().split()]\n",
        "    debug = lambda *x: print(*x, file=sys.stderr)\n",
        "    sum_n = lambda n: (n * (n + 1)) // 2\n",
        "    get_bit = lambda x, i: (x >> i) & 1\n",
        "    ceil_ = lambda a, b: a // b if (a >= 0) ^ (b > 0) else (abs(a) + abs(b) - 1) // abs(b)\n",
        "    Mint, Mlong, out = 2 ** 30 - 1, 2 ** 62 - 1, []\n",
        "'''\n",
        "\n",
        "inp = lambda dtype: [dtype(x) for x in input().split()]\n",
        "\n",
        "def solve():\n",
        "    sum = array('i', [0] * n)\n",
        "    if a[0] == 0:\n",
        "        sum[0] = 1\n",
        "    res = sum[0]\n",
        "    for i in range(1, n):\n",
        "        if a[i] == 0:\n",
        "            sum[i] = sum[i - 1] + 1\n",
        "            res = max(res, sum[i])\n",
        "        else:\n",
        "            sum[i] = 0\n",
        "    print(res)\n",
        "\n",
        "if __name__ == '__main__':\n",
        "    t = int(input())\n",
        "    for _ in range(t):\n",
        "            n = int(input())\n",
        "            a = array('b', inp(int))\n",
        "            solve()\n",
        "    \n",
        "    # with open('1829B.txt') as f:\n",
        "    #     t = int(f.readline().strip())\n",
        "    #     for _ in range(t):\n",
        "    #         n = int(f.readline().strip())\n",
        "    #         a = array('b', [int(x) for x in f.readline().strip().split()])\n",
        "    #         solve()\n",
        "    "
      ],
      "metadata": {
        "colab": {
          "base_uri": "https://localhost:8080/"
        },
        "id": "Q2w5AYHEjdtB",
        "outputId": "ff5accca-6854-4b8d-caa2-904bf162b469"
      },
      "execution_count": null,
      "outputs": [
        {
          "output_type": "stream",
          "name": "stdout",
          "text": [
            "1\n",
            "5\n",
            "1 0 1 0 0 1\n",
            "2\n"
          ]
        }
      ]
    },
    {
      "cell_type": "markdown",
      "source": [
        "# 1829C\n"
      ],
      "metadata": {
        "id": "NFYq7Ylep4U3"
      }
    },
    {
      "cell_type": "code",
      "source": [
        "from array import array\n",
        "\n",
        "'''\n",
        "    Adapted from code by beethoven97, https://codeforces.com/submissions/beethoven97\n",
        "    Thank to beethoven97\n",
        "\n",
        "    input = lambda: sys.stdin.buffer.readline().decode().rstrip()\n",
        "    inp = lambda dtype: [dtype(x) for x in input().split()]\n",
        "    debug = lambda *x: print(*x, file=sys.stderr)\n",
        "    sum_n = lambda n: (n * (n + 1)) // 2\n",
        "    get_bit = lambda x, i: (x >> i) & 1\n",
        "    ceil_ = lambda a, b: a // b if (a >= 0) ^ (b > 0) else (abs(a) + abs(b) - 1) // abs(b)\n",
        "    Mint, Mlong, out = 2 ** 30 - 1, 2 ** 62 - 1, []\n",
        "'''\n",
        "\n",
        "def min_minutes(x, y):\n",
        "    if x == 0:\n",
        "        return y\n",
        "    else:\n",
        "        return min(x, y)\n",
        "\n",
        "def solve():\n",
        "    '''\n",
        "        m1 : min minutes for only skill 1\n",
        "        m2 : min minutes for only skill 2\n",
        "        m3 : min minutes for both skills\n",
        "    '''\n",
        "    # print(books)\n",
        "    res = m1 = m2 = m3 = 0\n",
        "    for m, s in books:\n",
        "        if s[0] != s[1]:\n",
        "            if s[0] == '1':\n",
        "                m1 = min_minutes(m1, m)\n",
        "            else:\n",
        "                m2 = min_minutes(m2, m)\n",
        "        if s == '11':\n",
        "            m3 = min_minutes(m3, m)\n",
        "    \n",
        "    if m3:\n",
        "        res = m3\n",
        "    if m1 and m2:\n",
        "        res = min_minutes(res, m1 + m2)\n",
        "\n",
        "    if res == 0:\n",
        "        print(-1)\n",
        "    else:\n",
        "        print(res)\n",
        "    \n",
        "    \n",
        "            \n",
        "\n",
        "\n",
        "if __name__ == '__main__':\n",
        "    \n",
        "    t = int(input())\n",
        "    for _ in range(t):\n",
        "            n = int(input())\n",
        "            books = []\n",
        "            for _ in range(n):\n",
        "                m, s = input().split()\n",
        "                books.append((int(m), s))\n",
        "            solve()\n",
        "    \n",
        "    with open('1829C.txt') as f:\n",
        "        t = int(f.readline().strip())\n",
        "        for _ in range(t):\n",
        "            n = int(f.readline().strip())\n",
        "            books = []\n",
        "            for _ in range(n):\n",
        "                m, s = f.readline().strip().split()\n",
        "                books.append((int(m), s))\n",
        "            solve()\n",
        "    "
      ],
      "metadata": {
        "colab": {
          "base_uri": "https://localhost:8080/",
          "height": 287
        },
        "id": "4QcgA8Ksl0qi",
        "outputId": "50d2c67a-f3e0-474b-f22b-655a4fc79f41"
      },
      "execution_count": null,
      "outputs": [
        {
          "name": "stdout",
          "output_type": "stream",
          "text": [
            "1\n",
            "6\n",
            "4 01 6 01 7 01 8 00 9 01 1 00\n"
          ]
        },
        {
          "output_type": "error",
          "ename": "ValueError",
          "evalue": "ignored",
          "traceback": [
            "\u001b[0;31m---------------------------------------------------------------------------\u001b[0m",
            "\u001b[0;31mValueError\u001b[0m                                Traceback (most recent call last)",
            "\u001b[0;32m<ipython-input-22-e3bb71435f2f>\u001b[0m in \u001b[0;36m<cell line: 53>\u001b[0;34m()\u001b[0m\n\u001b[1;32m     58\u001b[0m             \u001b[0mbooks\u001b[0m \u001b[0;34m=\u001b[0m \u001b[0;34m[\u001b[0m\u001b[0;34m]\u001b[0m\u001b[0;34m\u001b[0m\u001b[0;34m\u001b[0m\u001b[0m\n\u001b[1;32m     59\u001b[0m             \u001b[0;32mfor\u001b[0m \u001b[0m_\u001b[0m \u001b[0;32min\u001b[0m \u001b[0mrange\u001b[0m\u001b[0;34m(\u001b[0m\u001b[0mn\u001b[0m\u001b[0;34m)\u001b[0m\u001b[0;34m:\u001b[0m\u001b[0;34m\u001b[0m\u001b[0;34m\u001b[0m\u001b[0m\n\u001b[0;32m---> 60\u001b[0;31m                 \u001b[0mm\u001b[0m\u001b[0;34m,\u001b[0m \u001b[0ms\u001b[0m \u001b[0;34m=\u001b[0m \u001b[0minput\u001b[0m\u001b[0;34m(\u001b[0m\u001b[0;34m)\u001b[0m\u001b[0;34m.\u001b[0m\u001b[0msplit\u001b[0m\u001b[0;34m(\u001b[0m\u001b[0;34m)\u001b[0m\u001b[0;34m\u001b[0m\u001b[0;34m\u001b[0m\u001b[0m\n\u001b[0m\u001b[1;32m     61\u001b[0m                 \u001b[0mbooks\u001b[0m\u001b[0;34m.\u001b[0m\u001b[0mappend\u001b[0m\u001b[0;34m(\u001b[0m\u001b[0;34m(\u001b[0m\u001b[0mint\u001b[0m\u001b[0;34m(\u001b[0m\u001b[0mm\u001b[0m\u001b[0;34m)\u001b[0m\u001b[0;34m,\u001b[0m \u001b[0ms\u001b[0m\u001b[0;34m)\u001b[0m\u001b[0;34m)\u001b[0m\u001b[0;34m\u001b[0m\u001b[0;34m\u001b[0m\u001b[0m\n\u001b[1;32m     62\u001b[0m             \u001b[0msolve\u001b[0m\u001b[0;34m(\u001b[0m\u001b[0;34m)\u001b[0m\u001b[0;34m\u001b[0m\u001b[0;34m\u001b[0m\u001b[0m\n",
            "\u001b[0;31mValueError\u001b[0m: too many values to unpack (expected 2)"
          ]
        }
      ]
    },
    {
      "cell_type": "markdown",
      "source": [
        "# 1829D\n"
      ],
      "metadata": {
        "id": "5lSoEixo1b9F"
      }
    },
    {
      "cell_type": "code",
      "source": [
        "from array import array\n",
        "from collections import deque\n",
        "\n",
        "'''\n",
        "    Adapted from code by beethoven97, https://codeforces.com/submissions/beethoven97\n",
        "    Thank to beethoven97\n",
        "\n",
        "    input = lambda: sys.stdin.buffer.readline().decode().rstrip()\n",
        "    inp = lambda dtype: [dtype(x) for x in input().split()]\n",
        "    debug = lambda *x: print(*x, file=sys.stderr)\n",
        "    sum_n = lambda n: (n * (n + 1)) // 2\n",
        "    get_bit = lambda x, i: (x >> i) & 1\n",
        "    ceil_ = lambda a, b: a // b if (a >= 0) ^ (b > 0) else (abs(a) + abs(b) - 1) // abs(b)\n",
        "    Mint, Mlong, out = 2 ** 30 - 1, 2 ** 62 - 1, []\n",
        "'''\n",
        "\n",
        "def bfs(root, end):\n",
        "    if end == root:\n",
        "        return 1\n",
        "        \n",
        "    if end > root:\n",
        "        return 0\n",
        "\n",
        "    visited = set()\n",
        "    visited.add(root)\n",
        "    queue = deque([root])\n",
        "\n",
        "    while queue:\n",
        "        u = queue.popleft()\n",
        "        if u % 3 == 0:\n",
        "            v1 = u // 3\n",
        "            v2 = u // 3 * 2\n",
        "            if v1 == end or v2 == end:\n",
        "                return 1\n",
        "            if v1 not in visited:\n",
        "                visited.add(v1)\n",
        "                queue.append(v1)\n",
        "            if v2 not in visited:\n",
        "                visited.add(v2)\n",
        "                queue.append(v2)\n",
        "    return 0\n",
        "            \n",
        "def solve():\n",
        "    ret = bfs(n, m)\n",
        "    if ret:\n",
        "        print('YES')\n",
        "    else:\n",
        "        print('NO')\n",
        "    \n",
        "    \n",
        "            \n",
        "\n",
        "\n",
        "if __name__ == '__main__':\n",
        "    \n",
        "    t = int(input())\n",
        "    for _ in range(t):\n",
        "            n, m = map(int, input().split())\n",
        "            solve()\n",
        "    \n",
        "    # with open('1829D.txt') as f:\n",
        "    #     t = int(f.readline().strip())\n",
        "    #     for _ in range(t):\n",
        "    #         n, m = map(int, f.readline().strip().split())\n",
        "    #         solve()\n",
        "    "
      ],
      "metadata": {
        "colab": {
          "base_uri": "https://localhost:8080/"
        },
        "id": "k2wB7wn81ewg",
        "outputId": "7b83b26f-2025-4e0e-9a95-b317d5c24f71"
      },
      "execution_count": null,
      "outputs": [
        {
          "output_type": "stream",
          "name": "stdout",
          "text": [
            "1\n",
            "2984004 746001\n",
            "NO\n"
          ]
        }
      ]
    },
    {
      "cell_type": "markdown",
      "source": [
        "# 1829E"
      ],
      "metadata": {
        "id": "vg7XWW5W5xxb"
      }
    },
    {
      "cell_type": "code",
      "source": [
        "from array import array\n",
        "from collections import deque\n",
        "\n",
        "'''\n",
        "    Adapted from code by beethoven97, https://codeforces.com/submissions/beethoven97\n",
        "    Thank to beethoven97\n",
        "\n",
        "    input = lambda: sys.stdin.buffer.readline().decode().rstrip()\n",
        "    inp = lambda dtype: [dtype(x) for x in input().split()]\n",
        "    debug = lambda *x: print(*x, file=sys.stderr)\n",
        "    sum_n = lambda n: (n * (n + 1)) // 2\n",
        "    get_bit = lambda x, i: (x >> i) & 1\n",
        "    ceil_ = lambda a, b: a // b if (a >= 0) ^ (b > 0) else (abs(a) + abs(b) - 1) // abs(b)\n",
        "    Mint, Mlong, out = 2 ** 30 - 1, 2 ** 62 - 1, []\n",
        "'''\n",
        "\n",
        "move = [(-1, 0), (1, 0), (0, -1), (0, 1)]\n",
        "\n",
        "def bfs(root):\n",
        "    global visited\n",
        "    visited[root] = 1\n",
        "    queue = deque([root])\n",
        "    sum = 0\n",
        "\n",
        "    while queue:\n",
        "        u = queue.popleft() \n",
        "        x = u // m\n",
        "        y = u % m\n",
        "        # print(u, x, y)\n",
        "        sum += a[u]\n",
        "\n",
        "        for i, j in move:\n",
        "            x1, y1 = x + i, y + j\n",
        "            if x1 >= 0 and y1 >= 0 and x1 < n and y1 < m:\n",
        "                v = x1 * m + y1\n",
        "                if not visited[v] and a[v]:\n",
        "                    visited[v] = 1\n",
        "                    queue.append(v)\n",
        "    \n",
        "    return sum\n",
        "\n",
        "            \n",
        "def solve():\n",
        "    global visited \n",
        "    visited = array('b', [0] * (n * m))\n",
        "    res = 0\n",
        "    for i in range(n * m):\n",
        "        if  not visited[i] and a[i]:\n",
        "            res = max(res, bfs(i))\n",
        "    print(res)\n",
        "    \n",
        "\n",
        "if __name__ == '__main__':\n",
        "    \n",
        "    # t = int(input())\n",
        "    # for _ in range(t):\n",
        "    #     n, m = map(int, input().split())\n",
        "    #     a = array('i')\n",
        "    #     for _ in range(n):\n",
        "    #         for x in input().split():\n",
        "    #             a.append(int(x)) \n",
        "    #     solve()\n",
        "    \n",
        "    with open('1829E.txt') as f:\n",
        "        t = int(f.readline().strip())\n",
        "        for _ in range(t):\n",
        "            n, m = map(int, f.readline().strip().split())\n",
        "            a = array('i')\n",
        "            for _ in range(n):\n",
        "                for x in f.readline().strip().split():\n",
        "                    a.append(int(x)) \n",
        "            solve()\n",
        "    "
      ],
      "metadata": {
        "colab": {
          "base_uri": "https://localhost:8080/"
        },
        "id": "-PT1EDq95z7t",
        "outputId": "cbb7c4a2-8711-4142-e928-e7ade916b713"
      },
      "execution_count": null,
      "outputs": [
        {
          "output_type": "stream",
          "name": "stdout",
          "text": [
            "10\n",
            "0\n",
            "7\n",
            "16\n",
            "21\n"
          ]
        }
      ]
    },
    {
      "cell_type": "markdown",
      "source": [
        "# 1829F\n"
      ],
      "metadata": {
        "id": "gGpDx65z2LM-"
      }
    },
    {
      "cell_type": "code",
      "source": [
        "import sys\n",
        "from array import array\n",
        "\n",
        "'''\n",
        "    Adapted from code by beethoven97, https://codeforces.com/submissions/beethoven97\n",
        "    Thank to beethoven97\n",
        "\n",
        "    input = lambda: sys.stdin.buffer.readline().decode().rstrip()\n",
        "    inp = lambda dtype: [dtype(x) for x in input().split()]\n",
        "    debug = lambda *x: print(*x, file=sys.stderr)\n",
        "    sum_n = lambda n: (n * (n + 1)) // 2\n",
        "    get_bit = lambda x, i: (x >> i) & 1\n",
        "    ceil_ = lambda a, b: a // b if (a >= 0) ^ (b > 0) else (abs(a) + abs(b) - 1) // abs(b)\n",
        "    Mint, Mlong, out = 2 ** 30 - 1, 2 ** 62 - 1, []\n",
        "'''\n",
        "input = lambda: sys.stdin.buffer.readline().decode().rstrip()\n",
        "inp = lambda dtype: [dtype(x) for x in input().split()]\n",
        "\n",
        "class graph():\n",
        "    \n",
        "    def __init__(self, n):\n",
        "        '''\n",
        "            n : number of nodes\n",
        "            deg : degree of a node\n",
        "            adj[i] : adjacent nodes of i\n",
        "        '''\n",
        "        \n",
        "        self.n = n\n",
        "        self.deg = array('i', [0] * (n + 1))\n",
        "        self.adj = [array('i') for _ in range(n + 1)]\n",
        "    \n",
        "    def add_edge(self, node1, node2):\n",
        "        self.adj[node1].append(node2)\n",
        "        self.adj[node2].append(node1)\n",
        "        self.deg[node1] += 1\n",
        "        self.deg[node2] += 1\n",
        "\n",
        "def solve():\n",
        "    for i in range(1, n + 1):\n",
        "        if g.deg[i] > 1:\n",
        "            x = g.deg[i]\n",
        "            y = g.deg[g.adj[i][0]]\n",
        "            \n",
        "            done = 1\n",
        "            for j in g.adj[i]:\n",
        "                if g.deg[j] != y:\n",
        "                    done = 0\n",
        "                    break\n",
        "                    \n",
        "            if done:\n",
        "                x = g.deg[i]\n",
        "                y -= 1\n",
        "                print(f'{x} {y}')\n",
        "                return\n",
        "\n",
        "    \n",
        "if __name__ == '__main__':\n",
        "    \n",
        "    t = int(input())\n",
        "    for _ in range(t):\n",
        "        n, m = map(int, input().split())\n",
        "        g = graph(n)\n",
        "        for _ in range(m):\n",
        "            u, v = map(int, input().split())\n",
        "            g.add_edge(u, v)\n",
        "        solve()\n",
        "    \n",
        "    with open('1829F.txt') as f:\n",
        "        t = int(f.readline().strip())\n",
        "        for _ in range(t):\n",
        "            n, m = map(int, f.readline().strip().split())\n",
        "            g = graph(n)\n",
        "            for _ in range(m):\n",
        "                u, v = map(int, f.readline().strip().split())\n",
        "                g.add_edge(u, v)\n",
        "            solve()\n",
        "    "
      ],
      "metadata": {
        "colab": {
          "base_uri": "https://localhost:8080/"
        },
        "id": "q9vf3Yly2PlV",
        "outputId": "a90c68b1-ce66-4c00-d6c5-bb50d4dbe094"
      },
      "execution_count": 7,
      "outputs": [
        {
          "output_type": "stream",
          "name": "stdout",
          "text": [
            "5 3\n",
            "2 2\n",
            "2 3\n"
          ]
        }
      ]
    }
  ]
}