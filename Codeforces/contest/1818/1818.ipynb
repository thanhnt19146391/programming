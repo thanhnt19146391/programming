{
  "cells": [
    {
      "cell_type": "markdown",
      "metadata": {
        "id": "view-in-github",
        "colab_type": "text"
      },
      "source": [
        "<a href=\"https://colab.research.google.com/github/thanhnt19146391/Programming/blob/main/Codeforces/contest/1818/1818.ipynb\" target=\"_parent\"><img src=\"https://colab.research.google.com/assets/colab-badge.svg\" alt=\"Open In Colab\"/></a>"
      ]
    },
    {
      "cell_type": "markdown",
      "metadata": {
        "id": "Yz4bYXxjd7QG"
      },
      "source": [
        "# 1818A"
      ]
    },
    {
      "cell_type": "code",
      "execution_count": null,
      "metadata": {
        "colab": {
          "base_uri": "https://localhost:8080/"
        },
        "id": "sFkozWuYd4-5",
        "outputId": "a280515e-dbca-4cd6-b0f1-d9f990a0ba1c"
      },
      "outputs": [
        {
          "name": "stdout",
          "output_type": "stream",
          "text": [
            "1\n",
            "1\n",
            "2\n",
            "2\n",
            "1\n",
            "1\n"
          ]
        }
      ],
      "source": [
        "def solve():\n",
        "    # print(n, k)\n",
        "    # print(s)\n",
        "    ''' \n",
        "        `expelled` is a set to check the member who have been expelled \n",
        "    '''\n",
        "    expelled = set()\n",
        "    res = n\n",
        "    for j in range(k):\n",
        "        for i in range(n):\n",
        "            if i not in expelled and s[i][j] != s[0][j]:\n",
        "                expelled.add(i)\n",
        "                res -= 1\n",
        "    print(res)\n",
        "\n",
        "\n",
        "if __name__ == '__main__':\n",
        "\n",
        "    t = int(input())\n",
        "    for _ in range(t):\n",
        "        n, k = map(int, input().split())\n",
        "        s = []\n",
        "        for _ in range(n):\n",
        "            s.append(input())\n",
        "        solve()\n",
        "\n",
        "    with open('1818A.txt') as f:\n",
        "        t = int(f.readline().strip())\n",
        "        for _ in range(t):\n",
        "            n, k = map(int, f.readline().strip().split())\n",
        "            s = []\n",
        "            for _ in range(n):\n",
        "                s.append(f.readline().strip())\n",
        "            solve()"
      ]
    },
    {
      "cell_type": "markdown",
      "metadata": {
        "id": "WWZTUqdlurOn"
      },
      "source": [
        "# 1818B"
      ]
    },
    {
      "cell_type": "code",
      "execution_count": null,
      "metadata": {
        "colab": {
          "base_uri": "https://localhost:8080/"
        },
        "id": "AgZaFbyquqbm",
        "outputId": "01f3de85-fd11-4149-aa34-dfd1b51a1e01"
      },
      "outputs": [
        {
          "name": "stdout",
          "output_type": "stream",
          "text": [
            "1\n",
            "8\n",
            "2 1 4 3 6 5 8 7 \n"
          ]
        }
      ],
      "source": [
        "def solve():\n",
        "    if n == 1:\n",
        "        print(1)\n",
        "        return\n",
        "\n",
        "    if n % 2 != 0:\n",
        "        print(-1)\n",
        "        return\n",
        "    \n",
        "    for i in range(n // 2):\n",
        "        print(f'{2 * i + 2} {2 * i + 1}', end = ' ')\n",
        "    print()\n",
        "\n",
        "if __name__ == '__main__':\n",
        "\n",
        "    t = int(input())\n",
        "    for _ in range(t):\n",
        "        n = int(input())\n",
        "        solve()\n",
        "\n",
        "    # with open('1818B.txt') as f:\n",
        "    #     t = int(f.readline().strip())\n",
        "    #     for _ in range(t):\n",
        "    #         n =int(f.readline().strip())\n",
        "    #         solve()"
      ]
    },
    {
      "cell_type": "markdown",
      "metadata": {
        "id": "zqHqK1DVuq1n"
      },
      "source": [
        "# 1818D"
      ]
    },
    {
      "cell_type": "code",
      "execution_count": 12,
      "metadata": {
        "colab": {
          "base_uri": "https://localhost:8080/"
        },
        "id": "sn4KUXlzuupk",
        "outputId": "cd1de51c-ad69-40c2-bee6-c28f6c3fbbe7"
      },
      "outputs": [
        {
          "output_type": "stream",
          "name": "stdout",
          "text": [
            "YES\n",
            "6\n",
            "5 4\n",
            "6 4\n",
            "4 1\n",
            "1 2\n",
            "2 3\n",
            "3 4\n",
            "YES\n",
            "5\n",
            "4 3\n",
            "5 3\n",
            "3 2\n",
            "2 1\n",
            "1 3\n",
            "NO\n"
          ]
        }
      ],
      "source": [
        "from array import array\n",
        "\n",
        "def dfs(current_node, start, end):\n",
        "\n",
        "    ''' \n",
        "        Find path from start (u) to end (v), without edge (u, v)\n",
        "    '''\n",
        "    global visited, current_cycle, dst_cycle\n",
        "    visited.add(current_node)\n",
        "    current_cycle.append(current_node)\n",
        "    \n",
        "    if current_node == end:\n",
        "        dst_cycle = current_cycle\n",
        "        return\n",
        "    \n",
        "    for v in adj[current_node]:\n",
        "        if v not in visited:\n",
        "            if current_node == start and v == end:\n",
        "                continue    # skip if the edge is (u, v)\n",
        "            \n",
        "            dfs(current_node = v, start = start, end = end)\n",
        "\n",
        "            if dst_cycle:   # Found first cycle sastified, stop dfs\n",
        "                return\n",
        "    current_cycle.pop()\n",
        "\n",
        "\n",
        "def solve():\n",
        "    # print(adj)\n",
        "    ''' \n",
        "\n",
        "    '''\n",
        "    \n",
        "    # Find cycle and node with degree >= 4\n",
        "    for u in range(1, n + 1):\n",
        "        if len(adj[u]) >= 4:\n",
        "            for v in adj[u]:\n",
        "                \n",
        "                # Find path from u to v, without edge (u, v)\n",
        "                global visited, current_cycle, dst_cycle\n",
        "                visited = set()\n",
        "                current_cycle = array('i', [])\n",
        "                dst_cycle = array('i', [])\n",
        "\n",
        "                dfs(current_node = u, start = u, end = v)\n",
        "                \n",
        "                if len(dst_cycle) == 0:\n",
        "                    continue   \n",
        "\n",
        "                # Found cycle, with a node with degree >=4   \n",
        "                extra_node = [i for i in adj[u] if i not in dst_cycle]\n",
        "                if len(extra_node) < 2:\n",
        "                    continue\n",
        "                print('YES')\n",
        "                print(len(dst_cycle) + 2)\n",
        "                print(f'{extra_node[0]} {u}')\n",
        "                print(f'{extra_node[1]} {u}')\n",
        "                for i in range(len(dst_cycle) - 1):\n",
        "                    print(f'{dst_cycle[i]} {dst_cycle[i + 1]}')\n",
        "                print(f'{dst_cycle[-1]} {u}')\n",
        "                return\n",
        "    print('NO')\n",
        "\n",
        "                \n",
        "\n",
        "if __name__ == '__main__':\n",
        "\n",
        "    '''\n",
        "        adj : adjacent nodes of vertex i (from 1 to n)\n",
        "    '''\n",
        "\n",
        "    # t = int(input())\n",
        "    # for _ in range(t):\n",
        "    #         n , m = map(int, input().split())\n",
        "    #         adj = [array('i', []) for _ in range(n + 1)]\n",
        "    #         for _ in range(m):\n",
        "    #             u, v = map(int, input().split())\n",
        "    #             adj[u].append(v)\n",
        "    #             adj[v].append(u)\n",
        "    #         solve()\n",
        "    \n",
        "    with open('1818D.txt') as f:\n",
        "        t = int(f.readline().strip())\n",
        "        for _ in range(t):\n",
        "            n , m = map(int, f.readline().strip().split())\n",
        "            adj = [array('i', []) for _ in range(n + 1)]\n",
        "            for _ in range(m):\n",
        "                u, v = map(int, f.readline().strip().split())\n",
        "                adj[u].append(v)\n",
        "                adj[v].append(u)\n",
        "            solve()"
      ]
    },
    {
      "cell_type": "code",
      "execution_count": null,
      "metadata": {
        "id": "N-cUzy_LvEUX"
      },
      "outputs": [],
      "source": []
    }
  ],
  "metadata": {
    "colab": {
      "provenance": [],
      "authorship_tag": "ABX9TyMxukRDrEdxS88zme7QdyQC",
      "include_colab_link": true
    },
    "kernelspec": {
      "display_name": "Python 3",
      "name": "python3"
    },
    "language_info": {
      "name": "python"
    }
  },
  "nbformat": 4,
  "nbformat_minor": 0
}