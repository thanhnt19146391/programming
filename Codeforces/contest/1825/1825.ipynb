{
  "nbformat": 4,
  "nbformat_minor": 0,
  "metadata": {
    "colab": {
      "provenance": [],
      "toc_visible": true,
      "authorship_tag": "ABX9TyMgE7LQJBBXEyrO6TcxavOz",
      "include_colab_link": true
    },
    "kernelspec": {
      "name": "python3",
      "display_name": "Python 3"
    },
    "language_info": {
      "name": "python"
    }
  },
  "cells": [
    {
      "cell_type": "markdown",
      "metadata": {
        "id": "view-in-github",
        "colab_type": "text"
      },
      "source": [
        "<a href=\"https://colab.research.google.com/github/thanhnt19146391/Programming/blob/main/Codeforces/contest/1825/1825.ipynb\" target=\"_parent\"><img src=\"https://colab.research.google.com/assets/colab-badge.svg\" alt=\"Open In Colab\"/></a>"
      ]
    },
    {
      "cell_type": "markdown",
      "source": [
        "# 1825A"
      ],
      "metadata": {
        "id": "uU16HavRZ5fA"
      }
    },
    {
      "cell_type": "code",
      "execution_count": 8,
      "metadata": {
        "colab": {
          "base_uri": "https://localhost:8080/"
        },
        "id": "Rhzufs5EZ3xA",
        "outputId": "7e5b2628-c151-481b-d4ec-a0c13b2052fa"
      },
      "outputs": [
        {
          "output_type": "stream",
          "name": "stdout",
          "text": [
            "6\n",
            "-1\n",
            "18\n",
            "2\n",
            "5\n",
            "4\n"
          ]
        }
      ],
      "source": [
        "import sys\n",
        "from array import array\n",
        "\n",
        "'''\n",
        "    Adapted from code by beethoven97, https://codeforces.com/submissions/beethoven97\n",
        "    Thank to beethoven97\n",
        "\n",
        "    input = lambda: sys.stdin.buffer.readline().decode().rstrip()\n",
        "    inp = lambda dtype: [dtype(x) for x in input().split()]\n",
        "    debug = lambda *x: print(*x, file=sys.stderr)\n",
        "    sum_n = lambda n: (n * (n + 1)) // 2\n",
        "    get_bit = lambda x, i: (x >> i) & 1\n",
        "    ceil_ = lambda a, b: a // b if (a >= 0) ^ (b > 0) else (abs(a) + abs(b) - 1) // abs(b)\n",
        "    Mint, Mlong, out = 2 ** 30 - 1, 2 ** 62 - 1, []\n",
        "'''\n",
        "\n",
        "input = lambda: sys.stdin.buffer.readline().decode().rstrip()\n",
        "inp = lambda dtype: [dtype(x) for x in input().split()]\n",
        "\n",
        "def solve():\n",
        "    palindrome = 1\n",
        "    length = len(s)\n",
        "    for i in range(len(s) >> 1):\n",
        "        if s[i] != s[length - i - 1]:\n",
        "            palindrome = 0\n",
        "            break\n",
        "    \n",
        "    if not palindrome:\n",
        "        print(length)\n",
        "    else:\n",
        "        unique = 1\n",
        "        \n",
        "        for x in s:\n",
        "            if x != s[0]:\n",
        "                unique = 0\n",
        "                break\n",
        "        if unique:\n",
        "            print(-1)\n",
        "        else:\n",
        "            print(length - 1)\n",
        "\n",
        "\n",
        "\n",
        "\n",
        "if __name__ == '__main__':\n",
        "\n",
        "    # t = int(input())\n",
        "    # for _ in range(t):\n",
        "    #     s = input()\n",
        "    #     solve()\n",
        "\n",
        "    with open('1825A.txt') as f:\n",
        "        t = int(f.readline().strip())\n",
        "        for _ in range(t):\n",
        "            s = f.readline().strip()\n",
        "            solve()"
      ]
    },
    {
      "cell_type": "markdown",
      "source": [
        "# 1825B"
      ],
      "metadata": {
        "id": "IBbK5eKisVJb"
      }
    },
    {
      "cell_type": "code",
      "source": [
        "import sys\n",
        "from array import array\n",
        "\n",
        "'''\n",
        "    Adapted from code by beethoven97, https://codeforces.com/submissions/beethoven97\n",
        "    Thank to beethoven97\n",
        "\n",
        "    input = lambda: sys.stdin.buffer.readline().decode().rstrip()\n",
        "    inp = lambda dtype: [dtype(x) for x in input().split()]\n",
        "    debug = lambda *x: print(*x, file=sys.stderr)\n",
        "    sum_n = lambda n: (n * (n + 1)) // 2\n",
        "    get_bit = lambda x, i: (x >> i) & 1\n",
        "    ceil_ = lambda a, b: a // b if (a >= 0) ^ (b > 0) else (abs(a) + abs(b) - 1) // abs(b)\n",
        "    Mint, Mlong, out = 2 ** 30 - 1, 2 ** 62 - 1, []\n",
        "'''\n",
        "\n",
        "input = lambda: sys.stdin.buffer.readline().decode().rstrip()\n",
        "inp = lambda dtype: [dtype(x) for x in input().split()]\n",
        "\n",
        "def solve():\n",
        "    mi1 = b[0]\n",
        "    mi2 = b[1]\n",
        "    mx1 = b[-1]\n",
        "    mx2 = b[-2]\n",
        "    global m, n\n",
        "    if m > n:\n",
        "        m, n = n, m\n",
        "    \n",
        "    s1 = (mx1 - mi1) * ((n - 1) * m) + (mx2 - mi1) * (m - 1)\n",
        "    s2 = (mx1 - mi1) * ((n - 1) * m) + (mx1 - mi2) * (m - 1)\n",
        "    res = max(s1, s2)\n",
        "    print(res)\n",
        "\n",
        "\n",
        "if __name__ == '__main__':\n",
        "\n",
        "    # t = int(input())\n",
        "    # for _ in range(t):\n",
        "    #     n, m = map(int, input().split())\n",
        "    #     b = array('i', sorted(inp(int)))\n",
        "    #     solve()\n",
        "\n",
        "    with open('1825B.txt') as f:\n",
        "        t = int(f.readline().strip())\n",
        "        for _ in range(t):\n",
        "            n, m = map(int, f.readline().strip().split())\n",
        "            b = array('i', sorted([int(x) for x in f.readline().strip().split()]))\n",
        "            solve()\n",
        "\n"
      ],
      "metadata": {
        "colab": {
          "base_uri": "https://localhost:8080/"
        },
        "id": "eM3aWsW8kUC-",
        "outputId": "549e1118-69c7-45b3-b036-1e7007aa01c5"
      },
      "execution_count": 31,
      "outputs": [
        {
          "output_type": "stream",
          "name": "stdout",
          "text": [
            "9\n",
            "0\n",
            "64\n",
            "71\n",
            "1933711\n"
          ]
        }
      ]
    }
  ]
}