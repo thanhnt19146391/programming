{
  "nbformat": 4,
  "nbformat_minor": 0,
  "metadata": {
    "colab": {
      "provenance": [],
      "authorship_tag": "ABX9TyP4iaZASBrzzuzoplzHVcBK",
      "include_colab_link": true
    },
    "kernelspec": {
      "name": "python3",
      "display_name": "Python 3"
    },
    "language_info": {
      "name": "python"
    }
  },
  "cells": [
    {
      "cell_type": "markdown",
      "metadata": {
        "id": "view-in-github",
        "colab_type": "text"
      },
      "source": [
        "<a href=\"https://colab.research.google.com/github/thanhnt19146391/Programming/blob/main/Codeforces/contest/1825/1825.ipynb\" target=\"_parent\"><img src=\"https://colab.research.google.com/assets/colab-badge.svg\" alt=\"Open In Colab\"/></a>"
      ]
    },
    {
      "cell_type": "markdown",
      "source": [
        "# 1825A"
      ],
      "metadata": {
        "id": "uU16HavRZ5fA"
      }
    },
    {
      "cell_type": "code",
      "execution_count": null,
      "metadata": {
        "colab": {
          "base_uri": "https://localhost:8080/"
        },
        "id": "Rhzufs5EZ3xA",
        "outputId": "7e5b2628-c151-481b-d4ec-a0c13b2052fa"
      },
      "outputs": [
        {
          "output_type": "stream",
          "name": "stdout",
          "text": [
            "6\n",
            "-1\n",
            "18\n",
            "2\n",
            "5\n",
            "4\n"
          ]
        }
      ],
      "source": [
        "import sys\n",
        "from array import array\n",
        "\n",
        "'''\n",
        "    Adapted from code by beethoven97, https://codeforces.com/submissions/beethoven97\n",
        "    Thank to beethoven97\n",
        "\n",
        "    input = lambda: sys.stdin.buffer.readline().decode().rstrip()\n",
        "    inp = lambda dtype: [dtype(x) for x in input().split()]\n",
        "    debug = lambda *x: print(*x, file=sys.stderr)\n",
        "    sum_n = lambda n: (n * (n + 1)) // 2\n",
        "    get_bit = lambda x, i: (x >> i) & 1\n",
        "    ceil_ = lambda a, b: a // b if (a >= 0) ^ (b > 0) else (abs(a) + abs(b) - 1) // abs(b)\n",
        "    Mint, Mlong, out = 2 ** 30 - 1, 2 ** 62 - 1, []\n",
        "'''\n",
        "\n",
        "input = lambda: sys.stdin.buffer.readline().decode().rstrip()\n",
        "inp = lambda dtype: [dtype(x) for x in input().split()]\n",
        "\n",
        "def solve():\n",
        "    palindrome = 1\n",
        "    length = len(s)\n",
        "    for i in range(len(s) >> 1):\n",
        "        if s[i] != s[length - i - 1]:\n",
        "            palindrome = 0\n",
        "            break\n",
        "    \n",
        "    if not palindrome:\n",
        "        print(length)\n",
        "    else:\n",
        "        unique = 1\n",
        "        \n",
        "        for x in s:\n",
        "            if x != s[0]:\n",
        "                unique = 0\n",
        "                break\n",
        "        if unique:\n",
        "            print(-1)\n",
        "        else:\n",
        "            print(length - 1)\n",
        "\n",
        "\n",
        "\n",
        "\n",
        "if __name__ == '__main__':\n",
        "\n",
        "    # t = int(input())\n",
        "    # for _ in range(t):\n",
        "    #     s = input()\n",
        "    #     solve()\n",
        "\n",
        "    with open('1825A.txt') as f:\n",
        "        t = int(f.readline().strip())\n",
        "        for _ in range(t):\n",
        "            s = f.readline().strip()\n",
        "            solve()"
      ]
    },
    {
      "cell_type": "markdown",
      "source": [
        "# 1825B"
      ],
      "metadata": {
        "id": "IBbK5eKisVJb"
      }
    },
    {
      "cell_type": "code",
      "source": [
        "import sys\n",
        "from array import array\n",
        "\n",
        "'''\n",
        "    Adapted from code by beethoven97, https://codeforces.com/submissions/beethoven97\n",
        "    Thank to beethoven97\n",
        "\n",
        "    input = lambda: sys.stdin.buffer.readline().decode().rstrip()\n",
        "    inp = lambda dtype: [dtype(x) for x in input().split()]\n",
        "    debug = lambda *x: print(*x, file=sys.stderr)\n",
        "    sum_n = lambda n: (n * (n + 1)) // 2\n",
        "    get_bit = lambda x, i: (x >> i) & 1\n",
        "    ceil_ = lambda a, b: a // b if (a >= 0) ^ (b > 0) else (abs(a) + abs(b) - 1) // abs(b)\n",
        "    Mint, Mlong, out = 2 ** 30 - 1, 2 ** 62 - 1, []\n",
        "'''\n",
        "\n",
        "input = lambda: sys.stdin.buffer.readline().decode().rstrip()\n",
        "inp = lambda dtype: [dtype(x) for x in input().split()]\n",
        "\n",
        "def solve():\n",
        "    mi1 = b[0]\n",
        "    mi2 = b[1]\n",
        "    mx1 = b[-1]\n",
        "    mx2 = b[-2]\n",
        "    global m, n\n",
        "    if m > n:\n",
        "        m, n = n, m\n",
        "    \n",
        "    s1 = (mx1 - mi1) * ((n - 1) * m) + (mx2 - mi1) * (m - 1)\n",
        "    s2 = (mx1 - mi1) * ((n - 1) * m) + (mx1 - mi2) * (m - 1)\n",
        "    res = max(s1, s2)\n",
        "    print(res)\n",
        "\n",
        "\n",
        "if __name__ == '__main__':\n",
        "\n",
        "    # t = int(input())\n",
        "    # for _ in range(t):\n",
        "    #     n, m = map(int, input().split())\n",
        "    #     b = array('i', sorted(inp(int)))\n",
        "    #     solve()\n",
        "\n",
        "    with open('1825B.txt') as f:\n",
        "        t = int(f.readline().strip())\n",
        "        for _ in range(t):\n",
        "            n, m = map(int, f.readline().strip().split())\n",
        "            b = array('i', sorted([int(x) for x in f.readline().strip().split()]))\n",
        "            solve()\n",
        "\n"
      ],
      "metadata": {
        "colab": {
          "base_uri": "https://localhost:8080/"
        },
        "id": "eM3aWsW8kUC-",
        "outputId": "549e1118-69c7-45b3-b036-1e7007aa01c5"
      },
      "execution_count": null,
      "outputs": [
        {
          "output_type": "stream",
          "name": "stdout",
          "text": [
            "9\n",
            "0\n",
            "64\n",
            "71\n",
            "1933711\n"
          ]
        }
      ]
    },
    {
      "cell_type": "markdown",
      "source": [
        "# 1825C"
      ],
      "metadata": {
        "id": "jXOnuJRLEsuq"
      }
    },
    {
      "cell_type": "code",
      "source": [
        "import sys\n",
        "from array import array\n",
        "\n",
        "'''\n",
        "    Adapted from code by beethoven97, https://codeforces.com/submissions/beethoven97\n",
        "    Thank to beethoven97\n",
        "\n",
        "    input = lambda: sys.stdin.buffer.readline().decode().rstrip()\n",
        "    inp = lambda dtype: [dtype(x) for x in input().split()]\n",
        "    debug = lambda *x: print(*x, file=sys.stderr)\n",
        "    sum_n = lambda n: (n * (n + 1)) // 2\n",
        "    get_bit = lambda x, i: (x >> i) & 1\n",
        "    ceil_ = lambda a, b: a // b if (a >= 0) ^ (b > 0) else (abs(a) + abs(b) - 1) // abs(b)\n",
        "    Mint, Mlong, out = 2 ** 30 - 1, 2 ** 62 - 1, []\n",
        "'''\n",
        "\n",
        "input = lambda: sys.stdin.buffer.readline().decode().rstrip()\n",
        "inp = lambda dtype: [dtype(x) for x in input().split()]\n",
        "\n",
        "def solve():\n",
        "    \n",
        "    '''\n",
        "        cntL : count of guests who sit next to the left (x = -1 - type 1)\n",
        "        cntR : count of guests who sit next to the right (x = -2 - type 2)\n",
        "        a : a set of the seat numbered x (x > 0 - type 3)\n",
        "        \n",
        "        Preliminary result: Assume some cases below:\n",
        "            Only type 1 guests: res = cntL\n",
        "            Only type 2 guests: res = cntR\n",
        "            Only type 1 and type 3: res = cntL + len(a)\n",
        "            Only type 2 and type 3: res = cntR + len(a)\n",
        "        Notice: the result must be not greater than m (the number of seats)\n",
        "        \n",
        "        l : the number of people on the left side when the a[i] person sit firstly\n",
        "        r : the number of people on the right when the a[i] person sit firstly\n",
        "        we iterate a[i] person step by step, we have:\n",
        "            a[i] - 1 : maximum people can sit on the left side \n",
        "            cntL + i : actually people can sit on the left side when the a[i] person sit firstly\n",
        "            m - a[i] : maximum people can sit on the right side\n",
        "            cntR + len(a) - i - 1 : actually people can sit on the left side when the a[i] person sit firstly\n",
        "    '''\n",
        "\n",
        "    a = set()\n",
        "    cntL, cntR = 0, 0\n",
        "    for value in x:\n",
        "        if value > 0:\n",
        "            a.add(value)\n",
        "        elif value == -1:\n",
        "            cntL += 1\n",
        "        elif value == -2:\n",
        "            cntR += 1\n",
        "    \n",
        "    # Preliminary result:\n",
        "    res = min(max(cntL, cntR, cntL + len(a), cntR + len(a)), m)\n",
        "\n",
        "    a = sorted(a)\n",
        "    \n",
        "    for i in range(len(a)):\n",
        "        l = min(a[i] - 1, cntL + i)\n",
        "        r = min(m - a[i], cntR + len(a) - i - 1)\n",
        "        res = max(res, l + r + 1)\n",
        "\n",
        "    print(res)\n",
        "    \n",
        "\n",
        "\n",
        "if __name__ == '__main__':\n",
        "\n",
        "    # t = int(input())\n",
        "    # for _ in range(t):\n",
        "    #     n, m = map(int, input().split())\n",
        "    #     x = array('i', inp(int))\n",
        "    #     solve()\n",
        "\n",
        "    with open('1825C.txt') as f:\n",
        "        t = int(f.readline().strip())\n",
        "        for _ in range(t):\n",
        "            n, m = map(int, f.readline().strip().split())\n",
        "            x = array('i', [int(x) for x in f.readline().strip().split()])\n",
        "            solve()\n",
        "\n"
      ],
      "metadata": {
        "id": "4rJKpP9kEv6k",
        "colab": {
          "base_uri": "https://localhost:8080/"
        },
        "outputId": "ff46b8eb-8263-4f9f-f499-489b694c5a99"
      },
      "execution_count": 22,
      "outputs": [
        {
          "output_type": "stream",
          "name": "stdout",
          "text": [
            "1\n",
            "3\n",
            "5\n",
            "6\n",
            "5\n",
            "5\n",
            "5\n",
            "1\n",
            "2\n",
            "1\n"
          ]
        }
      ]
    }
  ]
}