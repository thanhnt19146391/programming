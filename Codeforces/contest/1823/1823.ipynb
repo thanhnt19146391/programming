{
  "nbformat": 4,
  "nbformat_minor": 0,
  "metadata": {
    "colab": {
      "provenance": [],
      "authorship_tag": "ABX9TyMXFC/WSrPZm4fgyUe+75iH",
      "include_colab_link": true
    },
    "kernelspec": {
      "name": "python3",
      "display_name": "Python 3"
    },
    "language_info": {
      "name": "python"
    }
  },
  "cells": [
    {
      "cell_type": "markdown",
      "metadata": {
        "id": "view-in-github",
        "colab_type": "text"
      },
      "source": [
        "<a href=\"https://colab.research.google.com/github/thanhnt19146391/Programming/blob/main/Codeforces/contest/1823/1823.ipynb\" target=\"_parent\"><img src=\"https://colab.research.google.com/assets/colab-badge.svg\" alt=\"Open In Colab\"/></a>"
      ]
    },
    {
      "cell_type": "markdown",
      "source": [
        "# 1823A"
      ],
      "metadata": {
        "id": "f-CHlX1QPXQr"
      }
    },
    {
      "cell_type": "code",
      "execution_count": null,
      "metadata": {
        "id": "6NmUqhMsPVOW",
        "colab": {
          "base_uri": "https://localhost:8080/"
        },
        "outputId": "3c7400bb-4761-437e-e18d-6ca31f092ef6"
      },
      "outputs": [
        {
          "output_type": "stream",
          "name": "stdout",
          "text": [
            "2 0\n",
            "YES\n",
            "1 -1 \n",
            "2 1\n",
            "YES\n",
            "-1 -1 \n",
            "3 1\n",
            "YES\n",
            "1 -1 -1 \n",
            "3 2\n",
            "NO\n",
            "3 3\n",
            "YES\n",
            "-1 -1 -1 \n",
            "5 4\n",
            "YES\n",
            "1 1 -1 -1 -1 \n",
            "5 5\n",
            "NO\n"
          ]
        }
      ],
      "source": [
        "def solve():\n",
        "    # print(n, k)\n",
        "    ''' \n",
        "        a : amount of the 1\n",
        "        b = n - a : amount of the -1\n",
        "        If k == aC2 + bC2 then satisfied (Combinatorics: nCk = n! / ((n - k)! * k!))    \n",
        "        Otherwise, no result    \n",
        "    '''\n",
        "\n",
        "    for a in range(n + 1):\n",
        "        b = n - a\n",
        "        s = ((a - 1) * a + (b - 1) * b) // 2\n",
        "        if s == k:\n",
        "            print('YES')\n",
        "            for _ in range(a):\n",
        "                print('1', end = ' ')\n",
        "            for _ in range(b):\n",
        "                print('-1' , end = ' ')\n",
        "            print()\n",
        "            return\n",
        "    print('NO')\n",
        "    \n",
        "\n",
        "if __name__ == '__main__':\n",
        "\n",
        "    t = int(input())\n",
        "    for _ in range(t):\n",
        "        n, k = map(int, input().split())\n",
        "        solve()\n",
        "\n",
        "    with open('1823A.txt') as f:\n",
        "        t = int(f.readline().strip())\n",
        "        for _ in range(t):\n",
        "            n, k = map(int, f.readline().strip().split())\n",
        "            solve()"
      ]
    },
    {
      "cell_type": "markdown",
      "source": [
        "# 1823B"
      ],
      "metadata": {
        "id": "KGkG-wtXF9lN"
      }
    },
    {
      "cell_type": "code",
      "source": [
        "import sys\n",
        "from array import array\n",
        "\n",
        "'''\n",
        "    Adapted from code by beethoven97, https://codeforces.com/submissions/beethoven97\n",
        "    Thank to beethoven97\n",
        "\n",
        "    input = lambda: sys.stdin.buffer.readline().decode().rstrip()\n",
        "    inp = lambda dtype: [dtype(x) for x in input().split()]\n",
        "    debug = lambda *x: print(*x, file=sys.stderr)\n",
        "    sum_n = lambda n: (n * (n + 1)) // 2\n",
        "    get_bit = lambda x, i: (x >> i) & 1\n",
        "    ceil_ = lambda a, b: a // b if (a >= 0) ^ (b > 0) else (abs(a) + abs(b) - 1) // abs(b)\n",
        "    Mint, Mlong, out = 2 ** 30 - 1, 2 ** 62 - 1, []\n",
        "'''\n",
        "\n",
        "input = lambda: sys.stdin.buffer.readline().decode().rstrip()\n",
        "inp = lambda dtype: [dtype(x) for x in input().split()]\n",
        "\n",
        "def solve():\n",
        "    # print(p)\n",
        "    \n",
        "    '''\n",
        "        p[i] - 1 : convert value from range (1, n) to range (0, n - 1)\n",
        "        i mod k = x : set of positions x, in which numbers can be reordered  \n",
        "        different_set: count number value which belong different set \n",
        "    '''\n",
        "    different_set = 0\n",
        "    for i in range(n):\n",
        "        if (p[i] - 1) % k != i % k:\n",
        "            different_set += 1\n",
        "\n",
        "    if different_set == 0:\n",
        "        print(0) \n",
        "    elif different_set == 2:\n",
        "        print(1)\n",
        "    else:\n",
        "        print(-1)\n",
        "    \n",
        "\n",
        "if __name__ == '__main__':\n",
        "\n",
        "    t = int(input())\n",
        "    for _ in range(t):\n",
        "        n, k = map(int, input().split())\n",
        "        p = array('i', inp(int))\n",
        "        solve()\n",
        "\n",
        "    with open('1823B.txt') as f:\n",
        "        t = int(f.readline().strip())\n",
        "        for _ in range(t):\n",
        "            n, k = map(int, f.readline().strip().split())\n",
        "            p = array('i', [int(x) for x in f.readline().strip().split()])\n",
        "            solve()"
      ],
      "metadata": {
        "id": "gTYAYgLBTEL2",
        "outputId": "33561d21-c5c3-436c-af80-6e56a92a7c75",
        "colab": {
          "base_uri": "https://localhost:8080/"
        }
      },
      "execution_count": 9,
      "outputs": [
        {
          "output_type": "stream",
          "name": "stdout",
          "text": [
            "0\n",
            "0\n",
            "1\n",
            "0\n",
            "1\n",
            "-1\n"
          ]
        }
      ]
    }
  ]
}