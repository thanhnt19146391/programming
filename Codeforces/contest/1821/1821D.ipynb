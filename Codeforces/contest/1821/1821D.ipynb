{
  "nbformat": 4,
  "nbformat_minor": 0,
  "metadata": {
    "colab": {
      "provenance": [],
      "authorship_tag": "ABX9TyNX9QZozalnIYb5nUXwokT6",
      "include_colab_link": true
    },
    "kernelspec": {
      "name": "python3",
      "display_name": "Python 3"
    },
    "language_info": {
      "name": "python"
    }
  },
  "cells": [
    {
      "cell_type": "markdown",
      "metadata": {
        "id": "view-in-github",
        "colab_type": "text"
      },
      "source": [
        "<a href=\"https://colab.research.google.com/github/thanhnt19146391/Programming/blob/main/Codeforces/contest/1821/1821D.ipynb\" target=\"_parent\"><img src=\"https://colab.research.google.com/assets/colab-badge.svg\" alt=\"Open In Colab\"/></a>"
      ]
    },
    {
      "cell_type": "markdown",
      "source": [
        "\n",
        "# 1821D"
      ],
      "metadata": {
        "id": "oSNKYOLW5obw"
      }
    },
    {
      "cell_type": "code",
      "source": [
        "from array import array\n",
        "\n",
        "def solve():\n",
        "    '''\n",
        "        s : total length of all segments in prefix [0, r[i]] that are longer than 1\n",
        "        c : the number of segment of length 1 on this prefix \n",
        "    '''\n",
        "    s = 0\n",
        "    c = 0\n",
        "    res = -1\n",
        "    for i in range(n):\n",
        "        '''\n",
        "            len = r[i] - l[i] + 1\n",
        "            len > 1\n",
        "            r[i] - l[i] > 0\n",
        "        '''  \n",
        "        if r[i] - l[i]: # len > 1\n",
        "            s += r[i] - l[i] + 1\n",
        "        else: # len = 1\n",
        "            c += 1\n",
        "\n",
        "        if s + c < k:\n",
        "            continue\n",
        "        \n",
        "        # From here, s + c >= k\n",
        "        if s < k: \n",
        "            '''\n",
        "                m : Number of movements\n",
        "                We need some segment with length 1\n",
        "                m = r[i] movements + 2 * (number of long segment + number of short segment we need)\n",
        "            '''\n",
        "            m = r[i] + 2 * ((i + 1 - c) + (k - s))\n",
        "            \n",
        "\n",
        "        else: \n",
        "            '''\n",
        "                if s >= k then we do not need any short segments.\n",
        "                m = the number of movements + 2 * (number of long segment)\n",
        "            ''' \n",
        "            m = r[i] - (s - k) + 2 * (i + 1 - c)\n",
        "        \n",
        "        if res == -1:\n",
        "            res = m\n",
        "        else:\n",
        "            res = min(res, m)\n",
        "    print(res)\n",
        "\n",
        "if __name__ == '__main__':\n",
        "    t = int(input())\n",
        "    for _ in range(t):\n",
        "        n, k = map(int, input().split())\n",
        "        l = array('i', [int(x) for x in input().split()])\n",
        "        r = array('i', [int(x) for x in input().split()])\n",
        "        solve()\n",
        "\n",
        "    with open('1821D.txt') as f:\n",
        "        t = int(f.readline().strip())\n",
        "        for _ in range(t):\n",
        "            n, k = map(int, f.readline().strip().split())\n",
        "            l = array('i', [int(x) for x in f.readline().strip().split()])\n",
        "            r = array('i', [int(x) for x in f.readline().strip().split()])\n",
        "            solve()\n"
      ],
      "metadata": {
        "colab": {
          "base_uri": "https://localhost:8080/"
        },
        "id": "a0dvDzNp4gQZ",
        "outputId": "cbfd0a16-da28-4035-9539-e9f0245e424d"
      },
      "execution_count": 16,
      "outputs": [
        {
          "output_type": "stream",
          "name": "stdout",
          "text": [
            "8\n",
            "-1\n",
            "7\n",
            "1000000004\n",
            "3\n"
          ]
        }
      ]
    },
    {
      "cell_type": "markdown",
      "source": [
        "\n",
        "\n",
        "```\n",
        "Codeforces/contest/\n",
        "```\n",
        "\n"
      ],
      "metadata": {
        "id": "CFFP7RY76oWF"
      }
    }
  ]
}