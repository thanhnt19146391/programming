{
  "nbformat": 4,
  "nbformat_minor": 0,
  "metadata": {
    "colab": {
      "provenance": [],
      "authorship_tag": "ABX9TyNNnUPwgn9VuSDFZZJwXgJo",
      "include_colab_link": true
    },
    "kernelspec": {
      "name": "python3",
      "display_name": "Python 3"
    },
    "language_info": {
      "name": "python"
    }
  },
  "cells": [
    {
      "cell_type": "markdown",
      "metadata": {
        "id": "view-in-github",
        "colab_type": "text"
      },
      "source": [
        "<a href=\"https://colab.research.google.com/github/thanhnt19146391/Programming/blob/main/Codeforces/contest/1821/1821D.ipynb\" target=\"_parent\"><img src=\"https://colab.research.google.com/assets/colab-badge.svg\" alt=\"Open In Colab\"/></a>"
      ]
    },
    {
      "cell_type": "markdown",
      "source": [
        "\n",
        "# 1821D"
      ],
      "metadata": {
        "id": "oSNKYOLW5obw"
      }
    },
    {
      "cell_type": "code",
      "source": [
        "from array import array\n",
        "\n",
        "def solve():\n",
        "    print(a, b)\n",
        "\n",
        "if __name__ == '__main__':\n",
        "    # t = int(input())\n",
        "    # for _ in range(t):\n",
        "    #     s = input()\n",
        "    #     solve()\n",
        "\n",
        "    with open('1821D.txt') as f:\n",
        "        t = int(f.readline().strip())\n",
        "        for _ in range(t):\n",
        "            n, k = map(int, f.readline().strip().split())\n",
        "            a = array('i', [int(x) for x in f.readline().strip().split()])\n",
        "            b = array('i', [int(x) for x in f.readline().strip().split()])\n",
        "            solve()\n"
      ],
      "metadata": {
        "colab": {
          "base_uri": "https://localhost:8080/"
        },
        "id": "a0dvDzNp4gQZ",
        "outputId": "f39b63f9-cc17-4c04-84c8-9c2174f48247"
      },
      "execution_count": 3,
      "outputs": [
        {
          "output_type": "stream",
          "name": "stdout",
          "text": [
            "array('i', [1, 3]) array('i', [1, 4])\n",
            "array('i', [10, 13, 16, 19]) array('i', [11, 14, 17, 20])\n",
            "array('i', [1, 3]) array('i', [1, 10])\n",
            "array('i', [99, 999999999]) array('i', [100, 1000000000])\n"
          ]
        }
      ]
    }
  ]
}