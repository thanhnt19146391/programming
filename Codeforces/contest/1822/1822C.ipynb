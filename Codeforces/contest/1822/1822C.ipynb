{
  "nbformat": 4,
  "nbformat_minor": 0,
  "metadata": {
    "colab": {
      "provenance": [],
      "authorship_tag": "ABX9TyN4pQ7M7zkoYBjHb8rp/KT/",
      "include_colab_link": true
    },
    "kernelspec": {
      "name": "python3",
      "display_name": "Python 3"
    },
    "language_info": {
      "name": "python"
    }
  },
  "cells": [
    {
      "cell_type": "markdown",
      "metadata": {
        "id": "view-in-github",
        "colab_type": "text"
      },
      "source": [
        "<a href=\"https://colab.research.google.com/github/thanhnt19146391/Programming/blob/main/Codeforces/contest/1822/1822C.ipynb\" target=\"_parent\"><img src=\"https://colab.research.google.com/assets/colab-badge.svg\" alt=\"Open In Colab\"/></a>"
      ]
    },
    {
      "cell_type": "markdown",
      "source": [
        "# 1822C"
      ],
      "metadata": {
        "id": "qEM3yplzq1JH"
      }
    },
    {
      "cell_type": "code",
      "source": [
        "def solve():\n",
        "    res = (n + 1) ** 2 + 1\n",
        "    print(res)\n",
        "    \n",
        "\n",
        "if __name__ == '__main__':\n",
        "\n",
        "    t = int(input())\n",
        "    for _ in range(t):\n",
        "        n = int(input())\n",
        "        solve()\n",
        "\n",
        "    with open('1822C.txt') as f:\n",
        "        t = int(f.readline().strip())\n",
        "        for _ in range(t):\n",
        "            n = int(f.readline().strip())\n",
        "            solve()"
      ],
      "metadata": {
        "colab": {
          "base_uri": "https://localhost:8080/"
        },
        "id": "LOk8Yg9P_aoA",
        "outputId": "9d9b9c99-fd40-4ed1-9d8d-869631d054fa"
      },
      "execution_count": 3,
      "outputs": [
        {
          "output_type": "stream",
          "name": "stdout",
          "text": [
            "26\n",
            "37\n",
            "50\n",
            "32105178545472401\n"
          ]
        }
      ]
    },
    {
      "cell_type": "markdown",
      "source": [
        "\n",
        "```\n",
        "Codeforces/contest/\n",
        "```\n"
      ],
      "metadata": {
        "id": "Q4KLA-Hyrs5t"
      }
    }
  ]
}