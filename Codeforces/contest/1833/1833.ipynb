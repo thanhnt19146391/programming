{
  "nbformat": 4,
  "nbformat_minor": 0,
  "metadata": {
    "colab": {
      "provenance": [],
      "toc_visible": true,
      "authorship_tag": "ABX9TyNdKubzMTY1/IjCo5xRe3qS",
      "include_colab_link": true
    },
    "kernelspec": {
      "name": "python3",
      "display_name": "Python 3"
    },
    "language_info": {
      "name": "python"
    }
  },
  "cells": [
    {
      "cell_type": "markdown",
      "metadata": {
        "id": "view-in-github",
        "colab_type": "text"
      },
      "source": [
        "<a href=\"https://colab.research.google.com/github/thanhnt19146391/Programming/blob/main/Codeforces/contest/1833/1833.ipynb\" target=\"_parent\"><img src=\"https://colab.research.google.com/assets/colab-badge.svg\" alt=\"Open In Colab\"/></a>"
      ]
    },
    {
      "cell_type": "markdown",
      "source": [
        "# 1833A"
      ],
      "metadata": {
        "id": "LEH2Jxab821v"
      }
    },
    {
      "cell_type": "code",
      "execution_count": 4,
      "metadata": {
        "colab": {
          "base_uri": "https://localhost:8080/"
        },
        "id": "nVIZ4ewCY8g_",
        "outputId": "9876d6ab-5e57-4a8b-b37b-a4fc588882d1"
      },
      "outputs": [
        {
          "output_type": "stream",
          "name": "stdout",
          "text": [
            "2\n",
            "4\n",
            "1\n",
            "6\n",
            "4\n"
          ]
        }
      ],
      "source": [
        "import sys\n",
        "from array import array\n",
        "\n",
        "'''\n",
        "    Adapted from code by beethoven97, https://codeforces.com/submissions/beethoven97\n",
        "    Thank to beethoven97\n",
        "\n",
        "    input = lambda: sys.stdin.buffer.readline().decode().rstrip()\n",
        "    inp = lambda dtype: [dtype(x) for x in input().split()]\n",
        "    debug = lambda *x: print(*x, file=sys.stderr)\n",
        "    sum_n = lambda n: (n * (n + 1)) // 2\n",
        "    get_bit = lambda x, i: (x >> i) & 1\n",
        "    ceil_ = lambda a, b: a // b if (a >= 0) ^ (b > 0) else (abs(a) + abs(b) - 1) // abs(b)\n",
        "    Mint, Mlong, out = 2 ** 30 - 1, 2 ** 62 - 1, []\n",
        "'''\n",
        "\n",
        "input = lambda: sys.stdin.buffer.readline().decode().rstrip()\n",
        "inp = lambda dtype: [dtype(x) for x in input().split()]\n",
        "\n",
        "def solve():\n",
        "    '''\n",
        "\n",
        "    '''\n",
        "    u = set()\n",
        "    for i in range(n - 1):\n",
        "        sub_s = s[i : i + 2]\n",
        "        if sub_s not in u:\n",
        "            u.add(sub_s)\n",
        "    print(len(u))\n",
        "\n",
        "    \n",
        "    \n",
        "if __name__ == '__main__':\n",
        "\n",
        "    t = int(input())\n",
        "    for _ in range(t):\n",
        "        n = int(input())\n",
        "        s = input()\n",
        "        solve()\n",
        "\n",
        "    with open('1833A.txt') as f:\n",
        "        t = int(f.readline().strip())\n",
        "        for _ in range(t):\n",
        "            n = int(f.readline().strip())\n",
        "            s = f.readline().strip()\n",
        "            solve()"
      ]
    },
    {
      "cell_type": "markdown",
      "source": [
        "# 1833B"
      ],
      "metadata": {
        "id": "--vF65gq87A8"
      }
    },
    {
      "cell_type": "code",
      "source": [
        "import sys\n",
        "from array import array\n",
        "\n",
        "'''\n",
        "    Adapted from code by beethoven97, https://codeforces.com/submissions/beethoven97\n",
        "    Thank to beethoven97\n",
        "\n",
        "    input = lambda: sys.stdin.buffer.readline().decode().rstrip()\n",
        "    inp = lambda dtype: [dtype(x) for x in input().split()]\n",
        "    debug = lambda *x: print(*x, file=sys.stderr)\n",
        "    sum_n = lambda n: (n * (n + 1)) // 2\n",
        "    get_bit = lambda x, i: (x >> i) & 1\n",
        "    ceil_ = lambda a, b: a // b if (a >= 0) ^ (b > 0) else (abs(a) + abs(b) - 1) // abs(b)\n",
        "    Mint, Mlong, out = 2 ** 30 - 1, 2 ** 62 - 1, []\n",
        "'''\n",
        "\n",
        "input = lambda: sys.stdin.buffer.readline().decode().rstrip()\n",
        "inp = lambda dtype: [dtype(x) for x in input().split()]\n",
        "\n",
        "def solve():\n",
        "    '''\n",
        "\n",
        "    '''\n",
        "    arr = []\n",
        "    for i in range(n):\n",
        "        arr.append((a[i], i))\n",
        "    arr = sorted(arr)\n",
        "\n",
        "    res = array('i', [0] * n)\n",
        "\n",
        "    for i in range(n):\n",
        "        value, pos = arr[i]\n",
        "        res[pos] = b[i]\n",
        "\n",
        "    for value in res:\n",
        "        print(value, end = ' ')\n",
        "    print()\n",
        "    \n",
        "\n",
        "    \n",
        "    \n",
        "if __name__ == '__main__':\n",
        "\n",
        "    t = int(input())\n",
        "    for _ in range(t):\n",
        "        n, k = inp(int)\n",
        "        a = array('i', inp(int))\n",
        "        b = array('i', sorted(inp(int)))\n",
        "        solve()\n",
        "\n",
        "    with open('1833B.txt') as f:\n",
        "        t = int(f.readline().strip())\n",
        "        for _ in range(t):\n",
        "            n, k = map(int, f.readline().strip().split())\n",
        "            a = array('i', [int(x) for x in f.readline().strip().split()])\n",
        "            b = array('i', sorted([int(x) for x in f.readline().strip().split()]))\n",
        "            solve()"
      ],
      "metadata": {
        "colab": {
          "base_uri": "https://localhost:8080/"
        },
        "id": "Zq18eyfjfCaK",
        "outputId": "147daeac-c723-4d49-8b83-d7b4d4265987"
      },
      "execution_count": 15,
      "outputs": [
        {
          "output_type": "stream",
          "name": "stdout",
          "text": [
            "2 2 5 4 11 \n",
            "0 4 -1 0 -4 0 \n",
            "4 8 9 \n"
          ]
        }
      ]
    },
    {
      "cell_type": "markdown",
      "source": [
        "# 1833C"
      ],
      "metadata": {
        "id": "5Or94GH089RP"
      }
    },
    {
      "cell_type": "code",
      "source": [
        "import sys\n",
        "from array import array\n",
        "\n",
        "'''\n",
        "    Adapted from code by beethoven97, https://codeforces.com/submissions/beethoven97\n",
        "    Thank to beethoven97\n",
        "\n",
        "    input = lambda: sys.stdin.buffer.readline().decode().rstrip()\n",
        "    inp = lambda dtype: [dtype(x) for x in input().split()]\n",
        "    debug = lambda *x: print(*x, file=sys.stderr)\n",
        "    sum_n = lambda n: (n * (n + 1)) // 2\n",
        "    get_bit = lambda x, i: (x >> i) & 1\n",
        "    ceil_ = lambda a, b: a // b if (a >= 0) ^ (b > 0) else (abs(a) + abs(b) - 1) // abs(b)\n",
        "    Mint, Mlong, out = 2 ** 30 - 1, 2 ** 62 - 1, []\n",
        "'''\n",
        "\n",
        "input = lambda: sys.stdin.buffer.readline().decode().rstrip()\n",
        "inp = lambda dtype: [dtype(x) for x in input().split()]\n",
        "\n",
        "def solve():\n",
        "    '''\n",
        "\n",
        "    '''\n",
        "    cnt_odd = 0\n",
        "    cnt_even = 0\n",
        "    \n",
        "    for i in range(1, n):\n",
        "        if a[i] % 2:\n",
        "            cnt_odd += 1\n",
        "        else:\n",
        "            cnt_even += 1\n",
        "\n",
        "    res = 1\n",
        "    if a[0] % 2 == 0 and cnt_odd:\n",
        "        res = 0\n",
        "    if res:\n",
        "        print('YES')         \n",
        "    else:\n",
        "        print('NO')\n",
        "    \n",
        "    \n",
        "if __name__ == '__main__':\n",
        "\n",
        "    t = int(input())\n",
        "    for _ in range(t):\n",
        "        n = int(input())\n",
        "        a = array('i', sorted(inp(int)))\n",
        "        solve()\n",
        "\n",
        "    with open('1833C.txt') as f:\n",
        "        t = int(f.readline().strip())\n",
        "        for _ in range(t):\n",
        "            n = int(f.readline().strip())\n",
        "            a = array('i', sorted([int(x) for x in f.readline().strip().split()]))\n",
        "            solve()"
      ],
      "metadata": {
        "colab": {
          "base_uri": "https://localhost:8080/"
        },
        "id": "lFvtWyRZodeo",
        "outputId": "970af96d-518d-4178-bdbe-bba5276d7450"
      },
      "execution_count": 22,
      "outputs": [
        {
          "output_type": "stream",
          "name": "stdout",
          "text": [
            "NO\n",
            "YES\n",
            "YES\n",
            "YES\n",
            "YES\n",
            "NO\n",
            "NO\n"
          ]
        }
      ]
    },
    {
      "cell_type": "code",
      "source": [],
      "metadata": {
        "id": "XRU_dvOGfLzx"
      },
      "execution_count": null,
      "outputs": []
    }
  ]
}