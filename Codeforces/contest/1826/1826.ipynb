{
  "nbformat": 4,
  "nbformat_minor": 0,
  "metadata": {
    "colab": {
      "provenance": [],
      "authorship_tag": "ABX9TyNWp62WniV3FZIUK91btSPU",
      "include_colab_link": true
    },
    "kernelspec": {
      "name": "python3",
      "display_name": "Python 3"
    },
    "language_info": {
      "name": "python"
    }
  },
  "cells": [
    {
      "cell_type": "markdown",
      "metadata": {
        "id": "view-in-github",
        "colab_type": "text"
      },
      "source": [
        "<a href=\"https://colab.research.google.com/github/thanhnt19146391/Programming/blob/main/Codeforces/contest/1826/1826.ipynb\" target=\"_parent\"><img src=\"https://colab.research.google.com/assets/colab-badge.svg\" alt=\"Open In Colab\"/></a>"
      ]
    },
    {
      "cell_type": "markdown",
      "source": [
        "# 1826A"
      ],
      "metadata": {
        "id": "MkGycGWBVz7W"
      }
    },
    {
      "cell_type": "code",
      "execution_count": null,
      "metadata": {
        "colab": {
          "base_uri": "https://localhost:8080/"
        },
        "id": "pvubPF5OVxuj",
        "outputId": "40067d0c-e173-47ad-cfa0-d986a46b7916"
      },
      "outputs": [
        {
          "output_type": "stream",
          "name": "stdout",
          "text": [
            "1\n",
            "-1\n",
            "0\n",
            "-1\n",
            "0\n",
            "3\n",
            "4\n",
            "-1\n",
            "2\n"
          ]
        }
      ],
      "source": [
        "from array import array\n",
        "\n",
        "def solve():\n",
        "\n",
        "    '''\n",
        "        cnt[i] : array is to count the number of person say \n",
        "        'There are at least i liars amongst us'\n",
        "        s[i] : presum of cnt\n",
        "        Assume that we have x liars (0 <= x <= n)\n",
        "        Then check the number of liars who say i > x, liers = s[n] - s[x]\n",
        "    '''\n",
        "\n",
        "    cnt = array('i', [0] * (n + 1))\n",
        "    s = array('i', [0] * (n + 1))\n",
        "    for i in range(n):\n",
        "        cnt[a[i]] += 1\n",
        "    s[0] = cnt[0]\n",
        "    for i in range(1, n + 1):\n",
        "        s[i] = cnt[i] + s[i - 1]\n",
        "    res = -1\n",
        "    for x in range(n + 1):\n",
        "        liars = s[n] - s[x]\n",
        "        if liars == x:\n",
        "            res = x\n",
        "            break\n",
        "    print(res)\n",
        "\n",
        "if __name__ == '__main__':\n",
        "\n",
        "    # t = int(input())\n",
        "    # for _ in range(t):\n",
        "    #     n = int(input())\n",
        "    #     a = array('i', sorted([int(x) for x in input().split()]))\n",
        "    #     solve()\n",
        "\n",
        "    with open('1826A.txt') as f:\n",
        "        t = int(f.readline().strip())\n",
        "        for _ in range(t):\n",
        "            n = int(f.readline().strip())\n",
        "            a = array('i', sorted([int(x) for x in f.readline().strip().split()]))\n",
        "            solve()"
      ]
    },
    {
      "cell_type": "markdown",
      "source": [
        "# 1826B"
      ],
      "metadata": {
        "id": "NosoXkGqkvFR"
      }
    },
    {
      "cell_type": "code",
      "source": [
        "import sys\n",
        "from array import array\n",
        "from math import gcd\n",
        "\n",
        "'''\n",
        "    Adapted from code by beethoven97, https://codeforces.com/submissions/beethoven97\n",
        "    Thank to beethoven97\n",
        "\n",
        "    input = lambda: sys.stdin.buffer.readline().decode().rstrip()\n",
        "    inp = lambda dtype: [dtype(x) for x in input().split()]\n",
        "    debug = lambda *x: print(*x, file=sys.stderr)\n",
        "    sum_n = lambda n: (n * (n + 1)) // 2\n",
        "    get_bit = lambda x, i: (x >> i) & 1\n",
        "    ceil_ = lambda a, b: a // b if (a >= 0) ^ (b > 0) else (abs(a) + abs(b) - 1) // abs(b)\n",
        "    Mint, Mlong, out = 2 ** 30 - 1, 2 ** 62 - 1, []\n",
        "'''\n",
        "\n",
        "input = lambda: sys.stdin.buffer.readline().decode().rstrip()\n",
        "inp = lambda dtype: [dtype(x) for x in input().split()]\n",
        "\n",
        "def solve():\n",
        "    res = 0\n",
        "    for i in range(n >> 1): # n >> 1 = n div 2\n",
        "        res = gcd(res, abs(a[i] - a[n - i - 1]))\n",
        "    print(res)\n",
        "\n",
        "if __name__ == '__main__':\n",
        "\n",
        "    t = int(input())\n",
        "    for _ in range(t):\n",
        "        n = int(input())\n",
        "        a = array('i', inp(int))\n",
        "        solve()\n",
        "\n",
        "    with open('1826B.txt') as f:\n",
        "        t = int(f.readline().strip())\n",
        "        for _ in range(t):\n",
        "            n = int(f.readline().strip())\n",
        "            a = array('i', [int(x) for x in f.readline().strip().split()])\n",
        "            solve()"
      ],
      "metadata": {
        "colab": {
          "base_uri": "https://localhost:8080/"
        },
        "id": "86Q7anz6XtFQ",
        "outputId": "1dd8d2a4-ee5f-47c3-f2b0-6610647f0e16"
      },
      "execution_count": null,
      "outputs": [
        {
          "output_type": "stream",
          "name": "stdout",
          "text": [
            "1\n",
            "2\n",
            "0\n",
            "999999900\n",
            "1\n"
          ]
        }
      ]
    },
    {
      "cell_type": "code",
      "source": [
        "\n"
      ],
      "metadata": {
        "colab": {
          "base_uri": "https://localhost:8080/"
        },
        "id": "ELIMTQDZ8Enk",
        "outputId": "1102e0b2-5b44-4f64-bc2a-a100f1cb499d"
      },
      "execution_count": null,
      "outputs": [
        {
          "output_type": "execute_result",
          "data": {
            "text/plain": [
              "256.0"
            ]
          },
          "metadata": {},
          "execution_count": 13
        }
      ]
    }
  ]
}